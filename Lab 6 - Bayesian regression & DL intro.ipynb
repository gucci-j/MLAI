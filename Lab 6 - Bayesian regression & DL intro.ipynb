{
 "cells": [
  {
   "cell_type": "markdown",
   "metadata": {},
   "source": [
    "# Lab 6: Bayesian Regression & PyTorch\n",
    "## A: *Bayesian Treatment of Linear Regression* \n",
    "## B: [*Linear Regression with PyTorch*](#partB)\n",
    "\n",
    "### [Haiping Lu](http://staffwww.dcs.shef.ac.uk/people/H.Lu/) -  COM4509/6509 MLAI2019\n",
    "\n",
    "### Part 6A: modified in Nov 2019 based on notebooks by Neil Lawrence [MLAI2015](http://inverseprobability.com/mlai2015/)\n",
    "### Part 6B: based on the [SimplyDeep](https://github.com/haipinglu/SimplyDeep/) project I recently started"
   ]
  },
  {
   "cell_type": "markdown",
   "metadata": {},
   "source": [
    "$$\\newcommand{\\inputScalar}{x}\n",
    "\\newcommand{\\lengthScale}{\\ell}\n",
    "\\newcommand{\\mappingVector}{\\mathbf{w}}\n",
    "\\newcommand{\\gaussianDist}[3]{\\mathcal{N}\\left(#1|#2,#3\\right)}\n",
    "\\newcommand{\\gaussianSamp}[2]{\\mathcal{N}\\left(#1,#2\\right)}\n",
    "\\newcommand{\\zerosVector}{\\mathbf{0}}\n",
    "\\newcommand{\\eye}{\\mathbf{I}}\n",
    "\\newcommand{\\dataStd}{\\sigma}\n",
    "\\newcommand{\\dataScalar}{y}\n",
    "\\newcommand{\\dataVector}{\\mathbf{y}}\n",
    "\\newcommand{\\dataMatrix}{\\mathbf{Y}}\n",
    "\\newcommand{\\noiseScalar}{\\epsilon}\n",
    "\\newcommand{\\noiseVector}{\\mathbf{\\epsilon}}\n",
    "\\newcommand{\\noiseMatrix}{\\mathbf{\\Epsilon}}\n",
    "\\newcommand{\\inputVector}{\\mathbf{x}}\n",
    "\\newcommand{\\kernelMatrix}{\\mathbf{K}}\n",
    "\\newcommand{\\basisMatrix}{\\mathbf{\\Phi}}\n",
    "\\newcommand{\\basisVector}{\\mathbf{\\phi}}\n",
    "\\newcommand{\\basisScalar}{\\phi}\n",
    "\\newcommand{\\expSamp}[1]{\\left<#1\\right>}\n",
    "\\newcommand{\\expDist}[2]{\\left<#1\\right>_{#2}}\n",
    "\\newcommand{\\covarianceMatrix}{\\mathbf{C}}\n",
    "\\newcommand{\\numData}{n}\n",
    "\\newcommand{\\mappingScalar}{w}\n",
    "\\newcommand{\\mappingFunctionScalar}{f}\n",
    "\\newcommand{\\mappingFunctionVector}{\\mathbf{f}}\n",
    "\\newcommand{\\meanVector}{\\boldsymbol{\\mu}}\n",
    "\\newcommand{\\meanScalar}{\\mu}$$"
   ]
  },
  {
   "cell_type": "markdown",
   "metadata": {},
   "source": [
    "# Part A: Bayesian Regression"
   ]
  },
  {
   "cell_type": "markdown",
   "metadata": {},
   "source": [
    "## A1. The Bayesian Approach\n",
    "\n",
    "The aim of this notebook is to study Bayesian approaches to regression. In the Bayesian approach we define a *prior* density over our parameters, $m$ and $c$ or more generally $\\mathbf{w}$. This prior distribution gives us a range of expected values for our parameter *before* we have seen the data. The objective in Bayesian inference is to then compute the *posterior* density which is the effect on the density of having observed the data. \n",
    "\n",
    "In standard probability notation we write the **prior distribution** as,\n",
    "$$p(\\mathbf{w}),$$\n",
    "so it is the *marginal* distribution for the parameters, i.e. the distribution we have for the parameters without any knowledge about the data. \n",
    "\n",
    "The **posterior distribution** is written as,\n",
    "$$p(\\mathbf{w}|\\mathbf{y}, \\mathbf{X}).$$\n",
    "So the posterior distribution is the *conditional* distribution for the parameters given the data (which in this case consists of pairs of observations including response variables (or targets), $y_i$, and covariates (or inputs) $\\mathbf{x}_i$, where we are allowing the inputs to be multivariate. \n",
    "\n",
    "The posterior is recovered from the prior using *Bayes' rule*. Which is simply a rewriting of the product rule. We can recover Bayes rule as follows. The product rule of probability tells us that the joint distribution is given as the product of the conditional and the marginal. Dropping the inputs from our conditioning for the moment we have,\n",
    "$$p(\\mathbf{w}, \\mathbf{y})=p(\\mathbf{y}|\\mathbf{w})p(\\mathbf{w}),$$\n",
    "where we see we have related the joint density to the prior density and the **likelihood** from our previous investigation of regression,\n",
    "$$p(\\mathbf{y}|\\mathbf{w}) = \\prod_{i=1}^n\\mathcal{N}(y_i | \\mathbf{w}^\\top \\mathbf{x}_i, \\sigma^2)$$\n",
    "which arises from the assumption that our observation is given by\n",
    "$$y_i = \\mathbf{w}^\\top \\mathbf{x}_i + \\epsilon_i.$$\n",
    "In other words this is the Gaussian likelihood we have been fitting by minimizing the sum of squares. Have a look at Session 3 notebook as a reminder.\n",
    "\n",
    "We've introduce the likelihood, but we don't have  relationship with the posterior, however, the product rule can also be written in the following way\n",
    "$$p(\\mathbf{w}, \\mathbf{y}) = p(\\mathbf{w}|\\mathbf{y})p(\\mathbf{y}),$$\n",
    "where here we have simply used the opposite conditioning. We've already introduced the *posterior* density above. This is the density that represents our belief about the parameters *after* observing the data. This is combined with the **marginal likelihood**, sometimes also known as the evidence. It is the marginal likelihood, because it is the original likelihood of the data with the parameters marginalised, $p(\\mathbf{y})$. Here it's conditioned on nothing, but in practice you should always remember that everything here is conditioned on things like model choice: which set of basis functions. Because it's a regression problem, its also conditioned on the inputs. Using the equality between the two different forms of the joint density  we recover\n",
    "$$p(\\mathbf{w}|\\mathbf{y}) = \\frac{p(\\mathbf{y}|\\mathbf{w})p(\\mathbf{w})}{p(\\mathbf{y})}$$\n",
    "where we divided both sides by $p(\\mathbf{y})$ to recover this result. Let's re-introduce the conditioning on the input locations (or covariates), $\\mathbf{X}$ to write the full form of Bayes' rule for the regression problem. \n",
    "$$p(\\mathbf{w}|\\mathbf{y}, \\mathbf{X}) = \\frac{p(\\mathbf{y}|\\mathbf{w}, \\mathbf{X})p(\\mathbf{w})}{p(\\mathbf{y}|\\mathbf{X})}$$\n",
    "where the posterior density for the parameters given the data is $p(\\mathbf{w}|\\mathbf{y}, \\mathbf{X})$, the marginal likelihood is $p(\\mathbf{y}|\\mathbf{X})$, the prior density is $p(\\mathbf{w})$ and our original regression likelihood is given by $p(\\mathbf{y}|\\mathbf{w}, \\mathbf{X})$. It turns out that to compute the posterior the only things we need to do are define the prior and the likelihood. The other term on the right hand side can be computed by *the sum rule*. It is one of the key equations of Bayesian inference, the expectation of the likelihood under the prior, this process is known as marginalisation,\n",
    "$$\n",
    "p(\\mathbf{y}|\\mathbf{X}) = \\int p(\\mathbf{y}|\\mathbf{w},\\mathbf{X})p(\\mathbf{w}) \\text{d}\\mathbf{w}\n",
    "$$\n",
    "The term marginalisation nicely interprets the description of the probability as the *marginal likelihood*, because it somewhat has the implication that the variable name has been removed, and (perhaps) written in the margin. Marginalisation of a variable goes from a likelihood where the variable is in place, to a new likelihood where **all possible values** of that variable (under the prior) have been **considered and weighted** in the integral. \n",
    "\n",
    "This implies that **all we need for specifying our model is to define the likelihood and the prior**. We already have our likelihood from our earlier discussion, so our focus now turns to the prior density.\n",
    "\n"
   ]
  },
  {
   "cell_type": "markdown",
   "metadata": {},
   "source": [
    "## A2. The Prior Density and How to Sample from It\n",
    "\n",
    "Let's assume that the prior density is given by a zero mean Gaussian, which is independent across each of the parameters, \n",
    "$$\\mappingVector \\sim \\gaussianSamp{\\zerosVector}{\\alpha \\eye}$$\n",
    "In other words, we are assuming, for the prior, that each element of the parameters vector, $\\mappingScalar_i$, was drawn from a Gaussian density as follows\n",
    "$$\\mappingScalar_i \\sim \\gaussianSamp{0}{\\alpha}$$\n",
    "\n",
    "Let's start by assigning the parameter of the prior distribution, which is the variance of the prior distribution, $\\alpha$."
   ]
  },
  {
   "cell_type": "code",
   "execution_count": 2,
   "metadata": {},
   "outputs": [],
   "source": [
    "# set prior variance on w\n",
    "alpha = 4.\n",
    "# set the order of the polynomial basis set\n",
    "order = 5\n",
    "# set the noise variance\n",
    "sigma2 = 0.01"
   ]
  },
  {
   "cell_type": "markdown",
   "metadata": {},
   "source": [
    "### Generating samples from the model\n",
    "\n",
    "A very important aspect of probabilistic modelling is to *sample* from your model to see what type of assumptions you are making about your data. In this case that involves a two stage process.\n",
    "\n",
    "1. **Sample a candiate parameter vector from the prior.**\n",
    "2. **Place the candidate parameter vector in the likelihood and sample functions conditiond on that candidate vector.**\n",
    "3. **Repeat to try and characterise the type of functions you are generating.**\n",
    "\n",
    "Given a prior variance (as defined above) we can now  sample from the prior distribution and combine with a basis set to see what assumptions we are making about the functions *a priori* (i.e. before we've seen the data). \n",
    "\n",
    "### Prepare the data and specify the model\n",
    "Firstly we compute the basis function matrix. We will do it both for our training data, and for a range of prediction locations (`x_pred`). "
   ]
  },
  {
   "cell_type": "code",
   "execution_count": 3,
   "metadata": {},
   "outputs": [],
   "source": [
    "import numpy as np\n",
    "import pods\n",
    "# data = pods.datasets.olympic_marathon_men()\n",
    "# x = data['X']\n",
    "# y = data['Y']\n",
    "data = np.loadtxt('Datasets/olympic_marathon_men.csv', delimiter=',')\n",
    "x = data[:, 0, None]\n",
    "y = data[:, 1, None]\n",
    "num_data = x.shape[0]\n",
    "num_pred_data = 100 # how many points to use for plotting predictions\n",
    "x_pred = np.linspace(1890, 2016, num_pred_data)[:, None] # input locations for predictions"
   ]
  },
  {
   "cell_type": "code",
   "execution_count": 4,
   "metadata": {},
   "outputs": [
    {
     "name": "stdout",
     "output_type": "stream",
     "text": [
      "27\n"
     ]
    }
   ],
   "source": [
    "print(num_data)"
   ]
  },
  {
   "cell_type": "markdown",
   "metadata": {},
   "source": [
    "If you have problem downloading the data, it is made available [here](Datasets\\marathon_data.txt) as well for you to read in as `x` and `y` to proceed."
   ]
  },
  {
   "cell_type": "markdown",
   "metadata": {},
   "source": [
    "now let's build the basis matrices. We define the polynomial basis as follows."
   ]
  },
  {
   "cell_type": "code",
   "execution_count": 5,
   "metadata": {},
   "outputs": [],
   "source": [
    "def polynomial(x, degree, loc, scale):\n",
    "    degrees = np.arange(degree+1)\n",
    "    return ((x-loc)/scale)**degrees"
   ]
  },
  {
   "cell_type": "code",
   "execution_count": 6,
   "metadata": {},
   "outputs": [
    {
     "data": {
      "text/plain": [
       "array([[1890.        ],\n",
       "       [1891.27272727],\n",
       "       [1892.54545455],\n",
       "       [1893.81818182],\n",
       "       [1895.09090909],\n",
       "       [1896.36363636],\n",
       "       [1897.63636364],\n",
       "       [1898.90909091],\n",
       "       [1900.18181818],\n",
       "       [1901.45454545],\n",
       "       [1902.72727273],\n",
       "       [1904.        ],\n",
       "       [1905.27272727],\n",
       "       [1906.54545455],\n",
       "       [1907.81818182],\n",
       "       [1909.09090909],\n",
       "       [1910.36363636],\n",
       "       [1911.63636364],\n",
       "       [1912.90909091],\n",
       "       [1914.18181818],\n",
       "       [1915.45454545],\n",
       "       [1916.72727273],\n",
       "       [1918.        ],\n",
       "       [1919.27272727],\n",
       "       [1920.54545455],\n",
       "       [1921.81818182],\n",
       "       [1923.09090909],\n",
       "       [1924.36363636],\n",
       "       [1925.63636364],\n",
       "       [1926.90909091],\n",
       "       [1928.18181818],\n",
       "       [1929.45454545],\n",
       "       [1930.72727273],\n",
       "       [1932.        ],\n",
       "       [1933.27272727],\n",
       "       [1934.54545455],\n",
       "       [1935.81818182],\n",
       "       [1937.09090909],\n",
       "       [1938.36363636],\n",
       "       [1939.63636364],\n",
       "       [1940.90909091],\n",
       "       [1942.18181818],\n",
       "       [1943.45454545],\n",
       "       [1944.72727273],\n",
       "       [1946.        ],\n",
       "       [1947.27272727],\n",
       "       [1948.54545455],\n",
       "       [1949.81818182],\n",
       "       [1951.09090909],\n",
       "       [1952.36363636],\n",
       "       [1953.63636364],\n",
       "       [1954.90909091],\n",
       "       [1956.18181818],\n",
       "       [1957.45454545],\n",
       "       [1958.72727273],\n",
       "       [1960.        ],\n",
       "       [1961.27272727],\n",
       "       [1962.54545455],\n",
       "       [1963.81818182],\n",
       "       [1965.09090909],\n",
       "       [1966.36363636],\n",
       "       [1967.63636364],\n",
       "       [1968.90909091],\n",
       "       [1970.18181818],\n",
       "       [1971.45454545],\n",
       "       [1972.72727273],\n",
       "       [1974.        ],\n",
       "       [1975.27272727],\n",
       "       [1976.54545455],\n",
       "       [1977.81818182],\n",
       "       [1979.09090909],\n",
       "       [1980.36363636],\n",
       "       [1981.63636364],\n",
       "       [1982.90909091],\n",
       "       [1984.18181818],\n",
       "       [1985.45454545],\n",
       "       [1986.72727273],\n",
       "       [1988.        ],\n",
       "       [1989.27272727],\n",
       "       [1990.54545455],\n",
       "       [1991.81818182],\n",
       "       [1993.09090909],\n",
       "       [1994.36363636],\n",
       "       [1995.63636364],\n",
       "       [1996.90909091],\n",
       "       [1998.18181818],\n",
       "       [1999.45454545],\n",
       "       [2000.72727273],\n",
       "       [2002.        ],\n",
       "       [2003.27272727],\n",
       "       [2004.54545455],\n",
       "       [2005.81818182],\n",
       "       [2007.09090909],\n",
       "       [2008.36363636],\n",
       "       [2009.63636364],\n",
       "       [2010.90909091],\n",
       "       [2012.18181818],\n",
       "       [2013.45454545],\n",
       "       [2014.72727273],\n",
       "       [2016.        ]])"
      ]
     },
     "execution_count": 6,
     "metadata": {},
     "output_type": "execute_result"
    }
   ],
   "source": [
    "x_pred"
   ]
  },
  {
   "cell_type": "code",
   "execution_count": 7,
   "metadata": {},
   "outputs": [],
   "source": [
    "loc = 1950.\n",
    "scale = 1.\n",
    "degree = 5. \n",
    "Phi_pred = polynomial(x_pred, degree=degree, loc=loc, scale=scale)\n",
    "Phi = polynomial(x, degree=degree, loc=loc, scale=scale)\n"
   ]
  },
  {
   "cell_type": "markdown",
   "metadata": {},
   "source": [
    "### Scaling Gaussian-distributed Variables\n",
    "\n",
    "Now we will sample from the prior to produce a vector $\\mappingVector$ and use it to plot a function which is representative of our belief *before* we fit the data. To do this we are going to use the properties of the Gaussian density and obtain a sample from a **standard normal** (mean=0, variance=1) using the function `np.random.normal`.\n",
    "\n",
    "First, let's consider the case where we have one data point and one feature in our basis set. In otherwords $\\mappingFunctionVector$ would be a scalar, $\\mappingVector$ would be a scalar and $\\basisMatrix$ would be a scalar. In this case we have \n",
    "\n",
    "$$\\mappingFunctionScalar = \\basisScalar \\mappingScalar$$\n",
    "\n",
    "If $\\mappingScalar$ is drawn from a normal density, \n",
    "\n",
    "$$\\mappingScalar \\sim \\gaussianSamp{\\meanScalar_\\mappingScalar}{c_\\mappingScalar}$$\n",
    "\n",
    "and $\\basisScalar$ is a scalar value which we are given, then properties of the Gaussian density tell us that \n",
    "\n",
    "$$\\basisScalar \\mappingScalar \\sim \\gaussianSamp{\\basisScalar\\meanScalar_\\mappingScalar}{\\basisScalar^2c_\\mappingScalar}$$\n",
    "\n",
    "Let's test this out numerically. First we will draw 200 samples from a standard normal,"
   ]
  },
  {
   "cell_type": "code",
   "execution_count": 8,
   "metadata": {},
   "outputs": [],
   "source": [
    "w_vec = np.random.normal(size=200)"
   ]
  },
  {
   "cell_type": "code",
   "execution_count": 9,
   "metadata": {},
   "outputs": [
    {
     "data": {
      "text/plain": [
       "array([ 1.75677454, -0.68289981,  1.6374901 , -1.38534617, -1.10824458,\n",
       "       -0.92309787,  1.26826893, -1.32389416, -1.82273206, -0.73919168,\n",
       "       -1.64954711,  0.61730776,  0.07037188, -1.13711504, -0.52080955,\n",
       "       -0.15380736,  1.61436939, -0.11809846, -1.04817799, -0.76700608,\n",
       "       -0.48299996, -0.34356356, -0.2790136 , -1.59562582, -1.12992031,\n",
       "       -0.02612467, -0.73277014,  1.30569813,  1.08744966, -2.93542754,\n",
       "        0.31500237, -0.73980608,  0.26364433,  0.84584034, -0.17643763,\n",
       "       -1.40785933,  0.99855923,  0.0835558 ,  0.22523641,  0.17932997,\n",
       "       -0.02839894, -0.48161445,  0.61901828,  1.7719829 , -1.30868275,\n",
       "       -0.0154379 , -1.22813031,  1.1623247 , -0.48091879,  1.10333637,\n",
       "       -0.2232645 , -0.59945949,  0.65535976,  0.04310746, -1.07015223,\n",
       "        0.02339221, -1.58979706,  3.24152531, -1.68022615, -0.4347725 ,\n",
       "        1.29171134, -0.02283173,  0.48119921,  1.45258352, -0.63814155,\n",
       "       -1.57168313, -0.19785854, -0.43097699,  0.77799543, -0.52316688,\n",
       "        0.13281219, -1.07818897, -0.2108485 ,  0.79344325, -1.65017222,\n",
       "       -0.5765827 , -1.40145174, -1.26898323,  1.13238967, -0.31391159,\n",
       "        2.54074271, -0.54702072, -1.38717413,  0.51974832, -0.9324064 ,\n",
       "       -0.07329177,  0.99336434, -2.19289151,  1.09774359,  0.61696481,\n",
       "       -1.30524776, -1.32920952, -0.10669297,  1.08768262, -1.28475863,\n",
       "       -0.87880719,  0.92131756, -0.01269747,  0.33254981,  0.3022097 ,\n",
       "       -0.23092382, -1.00304483, -1.35836677, -0.75372314, -0.74368947,\n",
       "       -0.42501387, -0.41241651,  1.97000675, -0.12412262, -1.00798977,\n",
       "        0.98979478,  0.72839701,  1.6418696 ,  0.56911274, -1.12460486,\n",
       "        0.99227661,  1.59916966, -0.76185913,  0.73265949,  0.23276813,\n",
       "       -1.49062596, -1.84530833, -1.42484391,  0.29442972,  0.70624907,\n",
       "       -1.3564214 ,  0.22930751, -0.25990524,  0.1780448 , -0.53287418,\n",
       "        0.96816776,  1.08556806, -0.83092827,  1.19206796,  0.99389213,\n",
       "       -1.36667967, -0.56048641, -0.04407344,  0.82333048,  0.54055375,\n",
       "       -1.99532784, -0.76334581, -1.04127519, -1.31917487, -0.26190669,\n",
       "       -1.28646595, -1.09829803, -0.46472897,  0.7726677 ,  0.97201005,\n",
       "       -0.37490583, -0.6798633 ,  0.43487956,  0.81450582, -0.54256598,\n",
       "       -1.05213084, -0.73758607, -0.20980777, -1.82109259, -0.15755606,\n",
       "        1.16777489, -0.16406025, -0.87455562, -1.07183491, -1.88593903,\n",
       "       -0.50239895,  0.22306229,  1.37670208, -0.08989964,  0.37922324,\n",
       "        0.36930944,  0.79364518,  2.00131994, -0.11030444,  1.75660008,\n",
       "       -0.71885208, -0.32091761,  0.02335274, -1.44795887,  0.18891803,\n",
       "        1.96742337,  2.05706563, -1.96932267,  0.82571823, -0.14087901,\n",
       "        1.03954718,  0.86228343, -0.67604647, -0.36653615,  0.15199279,\n",
       "        0.53322407, -0.94705495,  0.79149863, -0.00998387, -0.59795122,\n",
       "       -0.12319195, -0.30674651,  0.77615966, -0.84447249,  0.9863275 ])"
      ]
     },
     "execution_count": 9,
     "metadata": {},
     "output_type": "execute_result"
    }
   ],
   "source": [
    "w_vec"
   ]
  },
  {
   "cell_type": "markdown",
   "metadata": {},
   "source": [
    "We can compute the mean of these samples and their variance"
   ]
  },
  {
   "cell_type": "code",
   "execution_count": 10,
   "metadata": {},
   "outputs": [
    {
     "name": "stdout",
     "output_type": "stream",
     "text": [
      "w sample mean is  -0.11920963060646697\n",
      "w sample variance is  1.0626095687195356\n"
     ]
    }
   ],
   "source": [
    "print('w sample mean is ', w_vec.mean())\n",
    "print('w sample variance is ', w_vec.var())"
   ]
  },
  {
   "cell_type": "markdown",
   "metadata": {},
   "source": [
    "These are close to zero (the mean) and one (the variance) as you'd expect. Now compute the mean and variance of the scaled version,"
   ]
  },
  {
   "cell_type": "code",
   "execution_count": 11,
   "metadata": {},
   "outputs": [
    {
     "name": "stdout",
     "output_type": "stream",
     "text": [
      "True mean should be phi*0 = 0.\n",
      "True variance should be phi*phi*1 =  49\n",
      "f sample mean is  -0.8344674142452689\n",
      "f sample variance is  52.06786886725724\n"
     ]
    }
   ],
   "source": [
    "phi = 7\n",
    "f_vec = phi*w_vec\n",
    "print('True mean should be phi*0 = 0.')\n",
    "print('True variance should be phi*phi*1 = ', phi*phi)\n",
    "print('f sample mean is ', f_vec.mean())\n",
    "print('f sample variance is ', f_vec.var())"
   ]
  },
  {
   "cell_type": "markdown",
   "metadata": {},
   "source": [
    "If you increase the number of samples then you will see that the sample mean and the sample variance begin to converge towards the true mean and the true variance. Obviously adding an offset to a sample from `np.random.normal` will change the mean. So if you want to sample from a Gaussian with mean `mu` and standard deviation `sigma` one way of doing it is to sample from the standard normal and scale and shift the result, so to sample a set of $\\mappingScalar$ from a Gaussian with mean $\\meanScalar$ and variance $\\alpha$,\n",
    "\n",
    "$$w \\sim \\gaussianSamp{\\meanScalar}{\\alpha}$$\n",
    "\n",
    "We can simply scale and offset samples from the *standard normal*."
   ]
  },
  {
   "cell_type": "code",
   "execution_count": 12,
   "metadata": {},
   "outputs": [
    {
     "name": "stdout",
     "output_type": "stream",
     "text": [
      "w sample mean is  3.944122973091237\n",
      "w sample variance is  2.239622615264035\n"
     ]
    }
   ],
   "source": [
    "mu = 4 # mean of the distribution\n",
    "alpha = 2 # variance of the distribution\n",
    "w_vec = np.random.normal(size=200)*np.sqrt(alpha) + mu\n",
    "print('w sample mean is ', w_vec.mean())\n",
    "print('w sample variance is ', w_vec.var())"
   ]
  },
  {
   "cell_type": "markdown",
   "metadata": {},
   "source": [
    "Here the `np.sqrt` is necesssary because we need to multiply by the standard deviation and we specified the variance as `alpha`. So scaling and offsetting a Gaussian distributed variable keeps the variable Gaussian, but it effects the mean and variance of the resulting variable. \n",
    "\n",
    "To get an idea of the overal shape of the resulting distribution, let's do the same thing with a histogram of the results. "
   ]
  },
  {
   "cell_type": "code",
   "execution_count": 13,
   "metadata": {},
   "outputs": [
    {
     "data": {
      "text/plain": [
       "<matplotlib.legend.Legend at 0x11d132b00>"
      ]
     },
     "execution_count": 13,
     "metadata": {},
     "output_type": "execute_result"
    },
    {
     "data": {
      "image/png": "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\n",
      "text/plain": [
       "<matplotlib.figure.Figure at 0x11b0c4128>"
      ]
     },
     "metadata": {},
     "output_type": "display_data"
    }
   ],
   "source": [
    "# First the standard normal\n",
    "import matplotlib.pyplot as plt\n",
    "%matplotlib inline\n",
    "z_vec = np.random.normal(size=10000) # by convention, in statistics, z is often used to denote samples from the standard normal\n",
    "w_vec = z_vec*np.sqrt(alpha) + mu\n",
    "# plot normalized histogram of w, and then normalized histogram of z on top\n",
    "plt.hist(w_vec, bins=30, density=True)\n",
    "plt.hist(z_vec, bins=30, density=True)\n",
    "plt.legend(('$w$', '$z$'))"
   ]
  },
  {
   "cell_type": "markdown",
   "metadata": {},
   "source": [
    "Now **re-run** this histogram with 100,000 samples and check that the both histograms look qualitatively Gaussian.\n",
    "\n",
    "### Sampling from the Prior by scaling a standard Gaussian\n",
    "\n",
    "Let's use this way of constructing samples from a Gaussian to check what functions look like *a priori*. The process will be as follows. First, we sample a random vector of $K$ dimensional from `np.random.normal`. Then we scale it by $\\sqrt{\\alpha}$ to obtain a prior sample of $\\mappingVector$.  "
   ]
  },
  {
   "cell_type": "code",
   "execution_count": 14,
   "metadata": {},
   "outputs": [
    {
     "name": "stdout",
     "output_type": "stream",
     "text": [
      "[-2.09518437 -1.202391   -1.08783662 -2.22833243 -0.04922174 -2.23590361]\n"
     ]
    }
   ],
   "source": [
    "K = int(degree) + 1\n",
    "z_vec = np.random.normal(size=K)\n",
    "w_sample = z_vec*np.sqrt(alpha)\n",
    "print(w_sample)"
   ]
  },
  {
   "cell_type": "code",
   "execution_count": 15,
   "metadata": {},
   "outputs": [
    {
     "data": {
      "text/plain": [
       "5.0"
      ]
     },
     "execution_count": 15,
     "metadata": {},
     "output_type": "execute_result"
    }
   ],
   "source": [
    "degree"
   ]
  },
  {
   "cell_type": "markdown",
   "metadata": {},
   "source": [
    "Now we can combine our sample from the prior with the basis functions to create a function,"
   ]
  },
  {
   "cell_type": "code",
   "execution_count": 16,
   "metadata": {},
   "outputs": [
    {
     "data": {
      "text/plain": [
       "[<matplotlib.lines.Line2D at 0x11d31e518>]"
      ]
     },
     "execution_count": 16,
     "metadata": {},
     "output_type": "execute_result"
    },
    {
     "data": {
      "image/png": "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\n",
      "text/plain": [
       "<matplotlib.figure.Figure at 0x11d11d4a8>"
      ]
     },
     "metadata": {},
     "output_type": "display_data"
    }
   ],
   "source": [
    "f_sample = np.dot(Phi_pred, w_sample)\n",
    "plt.plot(x_pred.flatten(), f_sample.flatten(), 'r-')"
   ]
  },
  {
   "cell_type": "code",
   "execution_count": null,
   "metadata": {},
   "outputs": [],
   "source": []
  },
  {
   "cell_type": "markdown",
   "metadata": {},
   "source": [
    "This shows the recurring problem with the polynomial basis. Our prior allows relatively large coefficients for the basis associated with high polynomial degrees. Because we are operating with input values of around 2000, this leads to output functions of very high values. The fix we have used for this before is to rescale our data before we apply the polynomial basis to it. Above, we set the scale of the basis to 1. Here let's set it to 100 and try again."
   ]
  },
  {
   "cell_type": "code",
   "execution_count": 17,
   "metadata": {},
   "outputs": [],
   "source": [
    "scale = 100.\n",
    "Phi_pred = polynomial(x_pred, degree=degree, loc=loc, scale=scale)\n",
    "Phi = polynomial(x, degree=degree, loc=loc, scale=scale)\n"
   ]
  },
  {
   "cell_type": "markdown",
   "metadata": {},
   "source": [
    "Now we need to recompute the basis functions from above, "
   ]
  },
  {
   "cell_type": "code",
   "execution_count": 18,
   "metadata": {},
   "outputs": [
    {
     "data": {
      "text/plain": [
       "[<matplotlib.lines.Line2D at 0x11d402278>]"
      ]
     },
     "execution_count": 18,
     "metadata": {},
     "output_type": "execute_result"
    },
    {
     "data": {
      "image/png": "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\n",
      "text/plain": [
       "<matplotlib.figure.Figure at 0x11d330630>"
      ]
     },
     "metadata": {},
     "output_type": "display_data"
    }
   ],
   "source": [
    "f_sample = np.dot(Phi_pred,w_sample)\n",
    "plt.plot(x_pred.flatten(), f_sample.flatten(), 'r-')"
   ]
  },
  {
   "cell_type": "markdown",
   "metadata": {},
   "source": [
    "Now let's loop through some samples and plot various functions as samples from this system,"
   ]
  },
  {
   "cell_type": "code",
   "execution_count": 19,
   "metadata": {},
   "outputs": [
    {
     "data": {
      "image/png": "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\n",
      "text/plain": [
       "<matplotlib.figure.Figure at 0x11d330208>"
      ]
     },
     "metadata": {},
     "output_type": "display_data"
    }
   ],
   "source": [
    "num_samples = 10\n",
    "K = int(degree)+1\n",
    "for i in range(num_samples):\n",
    "    z_vec = np.random.normal(size=K)\n",
    "    w_sample = z_vec*np.sqrt(alpha)\n",
    "    f_sample = np.dot(Phi_pred,w_sample)\n",
    "    plt.plot(x_pred.flatten(), f_sample.flatten())\n"
   ]
  },
  {
   "cell_type": "markdown",
   "metadata": {},
   "source": [
    "### Next: predicting the output \n",
    "\n",
    "The predictions for the mean output can now be computed. We want the **expected value of the predictions under the posterior distribution**. In matrix form, the predictions can be computed as\n",
    "\n",
    "$$\\mathbf{f} = \\basisMatrix \\mappingVector.$$\n",
    "\n",
    "This involves a matrix multiplication between a fixed matrix $\\basisMatrix$ and a vector $\\mappingVector$ that is drawn from a distribution. Because $\\mappingVector$ is drawn from a distribution, this imples that $\\mappingFunctionVector$ should also be drawn from a distribution. There are two distributions we are interested in though. We have just been sampling from the *prior* distribution to see what sort of functions we get *before* looking at the data. In Bayesian inference, we need to **compute the posterior distribution and sample from that density**."
   ]
  },
  {
   "cell_type": "markdown",
   "metadata": {},
   "source": [
    "## A3. Bayesian Inference\n",
    "The process of Bayesian inference involves combining the prior, $p(\\mappingVector)$ with the likelihood, $p(\\dataVector|\\inputVector, \\mappingVector)$ to form the posterior, $p(\\mappingVector | \\dataVector, \\inputVector)$ through Bayes' rule,\n",
    "\n",
    "$$p(\\mappingVector|\\dataVector, \\inputVector) = \\frac{p(\\dataVector|\\inputVector, \\mappingVector)p(\\mappingVector)}{p(\\dataVector)}$$\n",
    "\n",
    "We've looked at the samples for our function $\\mappingFunctionVector = \\basisMatrix\\mappingVector$, which forms the mean of the Gaussian likelihood, under the prior distribution, i.e. we've sampled from $p(\\mappingVector)$ and multiplied the result by the basis matrix. With the Baye's rule above, we can sample from the posterior density, $p(\\mappingVector|\\dataVector, \\inputVector)$, and check that the new samples fit do correspond to the data, i.e. we can check that the updated distribution includes information from the data set. "
   ]
  },
  {
   "cell_type": "markdown",
   "metadata": {},
   "source": [
    "### Bayesian Inference in the Univariate Case\n",
    "\n",
    "\n",
    "#### Prior Distribution\n",
    "\n",
    "Let's consider only one model parameter $c$. For linear regression, consider a Gaussian prior on the intercept:\n",
    "    $$c \\sim \\mathcal{N}(0, \\alpha_1)$$"
   ]
  },
  {
   "cell_type": "markdown",
   "metadata": {},
   "source": [
    "#### Stages to Derivation of the Posterior\n",
    "\n",
    "-   Multiply likelihood by prior\n",
    "\n",
    "    -   They are \"exponentiated quadratics\", the answer is always also\n",
    "        an exponentiated quadratic because\n",
    "        $$\\exp(a^2)\\exp(b^2) = \\exp(a^2 + b^2)$$\n",
    "\n",
    "-   Complete the square to get the resulting density in the form of\n",
    "    a Gaussian.\n",
    "\n",
    "-   Recognise the mean and (co)variance of the Gaussian. This is the\n",
    "    estimate of the posterior."
   ]
  },
  {
   "cell_type": "markdown",
   "metadata": {},
   "source": [
    "#### Main Trick\n",
    "\n",
    "$$p(c) = \\frac{1}{\\sqrt{2\\pi\\alpha_1}} \\exp\\left(-\\frac{1}{2\\alpha_1}c^2\\right)$$\n",
    "$$p(\\mathbf{y}|\\mathbf{x}, c, m, \\sigma^2) = \\frac{1}{\\left(2\\pi\\sigma^2\\right)^{\\frac{n}{2}}} \\exp\\left(-\\frac{1}{2\\sigma^2}\\sum_{i=1}^n(y_i - mx_i - c)^2\\right)$$"
   ]
  },
  {
   "cell_type": "markdown",
   "metadata": {},
   "source": [
    "$$p(c| \\mathbf{y}, \\mathbf{x}, m, \\sigma^2) = \\frac{p(\\mathbf{y}|\\mathbf{x}, c, m, \\sigma^2)p(c)}{p(\\mathbf{y}|\\mathbf{x}, m, \\sigma^2)}$$\n",
    "\n",
    "$$p(c| \\mathbf{y}, \\mathbf{x}, m, \\sigma^2) =  \\frac{p(\\mathbf{y}|\\mathbf{x}, c, m, \\sigma^2)p(c)}{\\int p(\\mathbf{y}|\\mathbf{x}, c, m, \\sigma^2)p(c) \\text{d} c}$$"
   ]
  },
  {
   "cell_type": "markdown",
   "metadata": {},
   "source": [
    "$$p(c| \\mathbf{y}, \\mathbf{x}, m, \\sigma^2) \\propto  p(\\mathbf{y}|\\mathbf{x}, c, m, \\sigma^2)p(c)$$\n",
    "\n",
    "$$\\begin{aligned}\n",
    "    \\log p(c | \\mathbf{y}, \\mathbf{x}, m, \\sigma^2) =&-\\frac{1}{2\\sigma^2} \\sum_{i=1}^n(y_i-c - mx_i)^2-\\frac{1}{2\\alpha_1} c^2 + \\text{const}\\\\\n",
    "     = &-\\frac{1}{2\\sigma^2}\\sum_{i=1}^n(y_i-mx_i)^2 -\\left(\\frac{n}{2\\sigma^2} + \\frac{1}{2\\alpha_1}\\right)c^2\\\\\n",
    "    & + c\\frac{\\sum_{i=1}^n(y_i-mx_i)}{\\sigma^2},\n",
    "  \\end{aligned}$$"
   ]
  },
  {
   "cell_type": "markdown",
   "metadata": {},
   "source": [
    "complete the square of the quadratic form to obtain\n",
    "$$\\log p(c | \\mathbf{y}, \\mathbf{x}, m, \\sigma^2) = -\\frac{1}{2\\tau^2}(c - \\mu)^2 +\\text{const},$$\n",
    "where $\\tau^2 = \\left(n\\sigma^{-2} +\\alpha_1^{-1}\\right)^{-1}$\n",
    "and\n",
    "$\\mu = \\frac{\\tau^2}{\\sigma^2} \\sum_{i=1}^n(y_i-mx_i)$.\n"
   ]
  },
  {
   "cell_type": "markdown",
   "metadata": {},
   "source": [
    "### Multivariate Bayesian Inference \n",
    "\n"
   ]
  },
  {
   "cell_type": "markdown",
   "metadata": {},
   "source": [
    "Compute the posterior distribution for multivariate $\\mappingVector$, i.e., the posterior mean and *covariance*. This distribution is also Gaussian,\n",
    "\n",
    "$$p(\\mappingVector | \\dataVector, \\inputVector, \\dataStd^2) = \\mathcal{N}\\left(\\mappingVector|\\meanVector_\\mappingScalar, \\covarianceMatrix_\\mappingScalar\\right)$$\n",
    "\n",
    "with covariance, $\\covarianceMatrix_\\mappingScalar$, given by\n",
    "\n",
    "$$\\covarianceMatrix_\\mappingScalar = \\left(\\dataStd^{-2}\\basisMatrix^\\top \\basisMatrix + \\alpha^{-1} \\eye\\right)^{-1}$$ \n",
    "\n",
    "whilst the mean is given by\n",
    "\n",
    "$$\\meanVector_\\mappingScalar = \\covarianceMatrix_\\mappingScalar \\dataStd^{-2}\\basisMatrix^\\top \\dataVector$$\n",
    "\n",
    "For *those interested*, the derivations are  available [here](https://nbviewer.jupyter.org/github/lawrennd/mlai2015/blob/master/week6.ipynb). Let's compute the posterior covariance and mean, then we'll sample from these densities to have a look at the posterior belief about $\\mappingVector$ once the data has been accounted for. \n"
   ]
  },
  {
   "cell_type": "markdown",
   "metadata": {},
   "source": [
    "### Question 1\n",
    "\n",
    "Compute the covariance for $\\mathbf{w}$ given the training data (using the formulae above) and call the resulting variable `w_cov`. Compute the mean for $\\mathbf{w}$ given the training data (using the formulae above) and call the resulting variable `w_mean`. Assume that $\\sigma^2 = 0.01$"
   ]
  },
  {
   "cell_type": "code",
   "execution_count": 20,
   "metadata": {},
   "outputs": [],
   "source": [
    "# Question 1 Answer Code\n",
    "# Write code for you answer to this question in this box\n",
    "sigma2 = 0.01\n",
    "w_cov = np.linalg.inv((1.0 / sigma2) * np.dot(Phi.T, Phi) + (1.0 / alpha) * np.identity(np.dot(Phi.T, Phi).shape[0]))\n",
    "w_mean = (1.0 / sigma2) * np.dot(w_cov, np.dot(Phi.T, y))"
   ]
  },
  {
   "cell_type": "code",
   "execution_count": 21,
   "metadata": {},
   "outputs": [
    {
     "data": {
      "text/plain": [
       "array([[ 3.37086868],\n",
       "       [-1.12665201],\n",
       "       [ 1.60316386],\n",
       "       [-1.32383453],\n",
       "       [ 0.54615018],\n",
       "       [-0.14329519]])"
      ]
     },
     "execution_count": 21,
     "metadata": {},
     "output_type": "execute_result"
    }
   ],
   "source": [
    "w_mean"
   ]
  },
  {
   "cell_type": "markdown",
   "metadata": {},
   "source": [
    "### Sampling from the Posterior\n",
    "\n",
    "Earlier, we were able to sample the prior values for the mean *independently* from a Gaussian using `np.random.normal` and scaling the result. However, observing the data *correlates* the parameters. Recall this from the first lab where we had a correlation between the offset, $c$ and the slope $m$ which caused such problems with the coordinate ascent algorithm. We need to sample from a *correlated* Gaussian. For this we can use `np.random.multivariate_normal`."
   ]
  },
  {
   "cell_type": "code",
   "execution_count": 22,
   "metadata": {},
   "outputs": [
    {
     "data": {
      "text/plain": [
       "[<matplotlib.lines.Line2D at 0x11d1b7a20>]"
      ]
     },
     "execution_count": 22,
     "metadata": {},
     "output_type": "execute_result"
    },
    {
     "data": {
      "image/png": "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\n",
      "text/plain": [
       "<matplotlib.figure.Figure at 0x11d1b7da0>"
      ]
     },
     "metadata": {},
     "output_type": "display_data"
    }
   ],
   "source": [
    "w_sample = np.random.multivariate_normal(w_mean.flatten(), w_cov)\n",
    "f_sample = np.dot(Phi_pred,w_sample)\n",
    "plt.plot(x_pred.flatten(), f_sample.flatten(), 'r-')\n",
    "plt.plot(x, y, 'rx') # plot data to show fit."
   ]
  },
  {
   "cell_type": "markdown",
   "metadata": {},
   "source": [
    "Now let's sample several functions and plot them all to see how the predictions fluctuate."
   ]
  },
  {
   "cell_type": "code",
   "execution_count": 23,
   "metadata": {},
   "outputs": [
    {
     "data": {
      "text/plain": [
       "[<matplotlib.lines.Line2D at 0x11d5e4cc0>]"
      ]
     },
     "execution_count": 23,
     "metadata": {},
     "output_type": "execute_result"
    },
    {
     "data": {
      "image/png": "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\n",
      "text/plain": [
       "<matplotlib.figure.Figure at 0x11d31ec18>"
      ]
     },
     "metadata": {},
     "output_type": "display_data"
    }
   ],
   "source": [
    "for i in range(num_samples):\n",
    "    w_sample = np.random.multivariate_normal(w_mean.flatten(), w_cov)\n",
    "    f_sample = np.dot(Phi_pred,w_sample)\n",
    "    plt.plot(x_pred.flatten(), f_sample.flatten())\n",
    "plt.plot(x, y, 'rx') # plot data to show fit."
   ]
  },
  {
   "cell_type": "markdown",
   "metadata": {},
   "source": [
    "This gives us an idea of what our predictions are. These are the predictions that are consistent with data and our prior. Try plotting different numbers of predictions. You can also try plotting beyond the range of where the data is and see what the functions do there. \n",
    "\n",
    "Rather than sampling from the posterior each time to compute our predictions, it might be better if we just summarised the predictions by the expected value of the output funciton, $f(x)$, for any particular input. If we can get formulae for this we don't need to sample the values of $f(x)$ we might be able to compute the distribution directly. Fortunately, in the Gaussian case, we can use properties of multivariate Gaussians to compute both the mean and the variance of these samples.\n",
    "\n",
    "### Properties of Gaussian Variables\n",
    "\n",
    "Gaussian variables have very particular properties, that many other densities don't exhibit. Perhaps foremost amoungst them is that the sum of any Gaussian distributed set of random variables also turns out to be Gaussian distributed. This property is much rarer than you might expect.\n",
    "\n",
    "#### Sum of Gaussian-distributed Variables\n",
    "\n",
    "The sum of Gaussian random variables is also Gaussian, so if we have a random variable $y_i$ drawn from a Gaussian density with mean $\\meanScalar_i$ and variance $\\dataStd^2_i$, \n",
    "\n",
    "$$y_i \\sim \\gaussianSamp{\\meanScalar_i}{\\dataStd^2_i}$$\n",
    "\n",
    "Then the sum of $K$ independently sampled values of $y_i$ will be drawn from a Gaussian with mean $\\sum_{i=1}^K \\mu_i$ and variance $\\sum_{i=1}^K \\dataStd_i^2$,\n",
    "\n",
    "\n",
    "$$\\sum_{i=1}^K y_i \\sim \\gaussianSamp{\\sum_{i=1}^K \\meanScalar_i}{\\sum_{i=1}^K \\dataStd_i^2}.$$\n",
    "\n",
    "Let's try that experimentally. First let's generate a vector of samples from a standard normal distribution, $z \\sim \\gaussianSamp{0}{1}$,  then we will scale and offset them, then keep adding them into a vector `y_vec`.\n",
    "\n",
    "#### Sampling from Gaussians and Summing Up"
   ]
  },
  {
   "cell_type": "code",
   "execution_count": 24,
   "metadata": {},
   "outputs": [
    {
     "name": "stdout",
     "output_type": "stream",
     "text": [
      "Sample mean is  24.88560091938528  and sample variance is  19.171810958214436\n",
      "True mean should be  25.0\n",
      "True variance should be  17.916666666666664  standard deviation  4.232808366400098\n"
     ]
    }
   ],
   "source": [
    "K = 10 # how many Gaussians to add.\n",
    "num_samples = 1000 # how many samples to have in y_vec\n",
    "mus = np.linspace(0, 5, K) # mean values generated linearly spaced between 0 and 5\n",
    "sigmas = np.linspace(0.5, 2, K) # sigmas generated linearly spaced between 0.5 and 2\n",
    "y_vec = np.zeros(num_samples)\n",
    "for mu, sigma in zip(mus, sigmas):\n",
    "    z_vec = np.random.normal(size=num_samples) # z is from standard normal\n",
    "    y_vec += z_vec*sigma + mu # add to y z*sigma + mu\n",
    "\n",
    "# now y_vec is the sum of each scaled and off set z.\n",
    "print('Sample mean is ', y_vec.mean(), ' and sample variance is ', y_vec.var())\n",
    "print('True mean should be ', mus.sum())\n",
    "print('True variance should be ', (sigmas**2).sum(), ' standard deviation ', np.sqrt((sigmas**2).sum())) "
   ]
  },
  {
   "cell_type": "markdown",
   "metadata": {},
   "source": [
    "Of course, we can histogram `y_vec` as well."
   ]
  },
  {
   "cell_type": "code",
   "execution_count": 25,
   "metadata": {},
   "outputs": [
    {
     "data": {
      "text/plain": [
       "<matplotlib.legend.Legend at 0x11d6bb828>"
      ]
     },
     "execution_count": 25,
     "metadata": {},
     "output_type": "execute_result"
    },
    {
     "data": {
      "image/png": "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\n",
      "text/plain": [
       "<matplotlib.figure.Figure at 0x11d6bba90>"
      ]
     },
     "metadata": {},
     "output_type": "display_data"
    }
   ],
   "source": [
    "plt.hist(y_vec, bins=30, normed=True)\n",
    "plt.legend('y')"
   ]
  },
  {
   "cell_type": "markdown",
   "metadata": {},
   "source": [
    "### Matrix Multiplication of Gaussian Variables\n",
    "\n",
    "We are interested in what our model is saying about the sort of functions we are observing. The fact that summing of Gaussian variables leads to new Gaussian variables, and scaling of Gaussian variables *also* leads to Gaussian variables means that matrix multiplication (which is just a series of sums and scales) also leads to Gaussian densities. Matrix multiplication is just adding and scaling together, in the formula, $\\mappingFunctionVector = \\basisMatrix \\mappingVector$ we can extract the first element from $\\mappingFunctionVector$ as\n",
    "\n",
    "$$\\mappingFunctionScalar_i = \\basisVector_i^\\top \\mappingVector$$\n",
    "\n",
    "where $\\basisVector_i$ is a column vector from the $i$th row of $\\basisMatrix$ and $\\mappingFunctionScalar_i$ is the $i$th element of $\\mappingFunctionVector$. This vector inner product itself merely implies that \n",
    "\n",
    "$$\\mappingFunctionScalar_i = \\sum_{j=1}^K \\mappingScalar_j \\basisScalar_{i, j}$$\n",
    "\n",
    "and if we now say that $\\mappingScalar_i$ is Gaussian distributed, then because a scaled Gaussian is also Gaussian, and because a sum of Gaussians is also Gaussian, we know that $\\mappingFunctionScalar_i$ is also Gaussian distributed. It merely remains to work out its mean and covariance. The results are below and the derviations follow. For those interested, the derivations are  available [here](https://nbviewer.jupyter.org/github/lawrennd/mlai2015/blob/master/week6.ipynb).\n",
    "\n",
    "The expectation under the prior is given by\n",
    "\n",
    "$$\\expDist{\\mappingFunctionVector}{\\gaussianDist{\\mappingVector}{\\zerosVector}{\\alpha\\eye}} = \\zerosVector$$\n",
    "\n",
    "and the covariance is \n",
    "\n",
    "$$\\text{cov}\\left(\\mappingFunctionVector\\right)_{\\gaussianDist{\\mappingVector}{\\zerosVector}{\\alpha \\eye}} = \\alpha \\basisMatrix \\basisMatrix^\\top$$\n",
    "\n",
    "\n",
    "### Compute the Marginal Likelihood\n",
    "\n",
    "Since our observed output, $\\dataVector$, is given by a noise corrupted variation of $\\mappingFunctionVector$, the final distribution for $\\dataVector$ is given as \n",
    "\n",
    "$$\\dataVector = \\mappingFunctionVector + \\noiseVector$$\n",
    "\n",
    "where the noise, $\\noiseVector$, is sampled from a Gaussian density: $\\noiseVector \\sim \\gaussianSamp{\\zerosVector}{\\dataStd^2\\eye}$. So, in other words, we are taking a Gaussian distributed random value $\\mappingFunctionVector$,\n",
    "\n",
    "$$\\mappingFunctionVector \\sim \\gaussianSamp{\\zerosVector}{\\alpha\\basisMatrix\\basisMatrix^\\top}$$\n",
    "\n",
    "and adding to it another Gaussian distributed value, $\\noiseVector \\sim \\gaussianSamp{\\zerosVector}{\\dataStd^2\\eye}$, to form our data observations, $\\dataVector$. Once again the sum of two (multivariate) Gaussian distributed variables is also Gaussian, with a mean given by the sum of the means (both zero in this case) and the covariance given by the sum of the covariances. So we now have that the marginal likelihood for the data, $p(\\dataVector)$ is given by\n",
    "\n",
    "$$p(\\dataVector) = \\gaussianDist{\\dataVector}{\\zerosVector}{\\alpha \\basisMatrix \\basisMatrix^\\top + \\dataStd^2\\eye}$$\n",
    "\n",
    "This is our *implicit* assumption for $\\dataVector$ given our prior assumption for $\\mappingVector$.\n",
    "\n",
    "### Computing the Mean and Error Bars of the Functions\n",
    "\n",
    "These ideas together, now allow us to compute the mean and error bars of the predictions. The mean prediction, before corrupting by noise is given by,\n",
    "$$\n",
    "\\mathbf{f} = \\boldsymbol{\\Phi}\\mathbf{w}\n",
    "$$\n",
    "in matrix form. This gives you enough information to compute the predictive mean. "
   ]
  },
  {
   "cell_type": "markdown",
   "metadata": {},
   "source": [
    "### Question 2\n",
    "\n",
    "Compute the predictive mean for the function at all the values of the basis function given by `Phi_pred`. Call the vector of predictions `f_pred_mean`. Plot the predictions alongside the data. We can also compute what the training error was. Use the output from your model to compute the predictive mean, and then compute the sum of squares error of that predictive mean.\n",
    "$$\n",
    "E = \\sum_{i=1}^n (y_i - \\langle f_i\\rangle)^2\n",
    "$$\n",
    "where $\\langle f_i\\rangle$ is the expected output of the model at point $x_i$."
   ]
  },
  {
   "cell_type": "code",
   "execution_count": 26,
   "metadata": {},
   "outputs": [
    {
     "data": {
      "text/plain": [
       "[<matplotlib.lines.Line2D at 0x11d536cf8>]"
      ]
     },
     "execution_count": 26,
     "metadata": {},
     "output_type": "execute_result"
    },
    {
     "data": {
      "image/png": "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\n",
      "text/plain": [
       "<matplotlib.figure.Figure at 0x11d6b29b0>"
      ]
     },
     "metadata": {},
     "output_type": "display_data"
    }
   ],
   "source": [
    "# Question 2 Answer Code\n",
    "# Write code for you answer to this question in this box\n",
    "\n",
    "# compute mean under posterior density\n",
    "w_sample = np.random.multivariate_normal(w_mean.flatten(), w_cov)\n",
    "f_pred_mean = np.dot(Phi_pred, w_mean)\n",
    "\n",
    "# plot the predictions\n",
    "plt.plot(x_pred.flatten(), f_pred_mean.flatten(), 'r-')\n",
    "plt.plot(x, y, 'rx') # plot data to show fit."
   ]
  },
  {
   "cell_type": "code",
   "execution_count": 27,
   "metadata": {},
   "outputs": [
    {
     "name": "stdout",
     "output_type": "stream",
     "text": [
      "The error is:  1.0836499593059874\n"
     ]
    },
    {
     "data": {
      "image/png": "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\n",
      "text/plain": [
       "<matplotlib.figure.Figure at 0x11d8c3d30>"
      ]
     },
     "metadata": {},
     "output_type": "display_data"
    }
   ],
   "source": [
    "# Question 2 Answer Code\n",
    "# Write code for you answer to this question in this box\n",
    "\n",
    "# compute mean under posterior density\n",
    "f_pred_mean = Phi_pred @ w_mean\n",
    "\n",
    "# plot the predictions\n",
    "plt.plot(x, y, 'rx', label='Training data')\n",
    "plt.plot(x_pred, f_pred_mean,'black', label='prediction')\n",
    "plt.legend()\n",
    "ax = plt.gca()\n",
    "ax.set_title('Predictions for Order ' + str(degree))\n",
    "ax.set_xlabel('year')\n",
    "ax.set_ylabel('pace (min/km)')\n",
    "\n",
    "# compute mean at the training data and sum of squares error\n",
    "f_mean = Phi @ w_mean\n",
    "sum_squares = np.sum((y - f_mean) ** 2)\n",
    "print('The error is: ', sum_squares)"
   ]
  },
  {
   "cell_type": "code",
   "execution_count": 28,
   "metadata": {},
   "outputs": [
    {
     "data": {
      "text/plain": [
       "(100, 6)"
      ]
     },
     "execution_count": 28,
     "metadata": {},
     "output_type": "execute_result"
    }
   ],
   "source": [
    "Phi_pred.shape"
   ]
  },
  {
   "cell_type": "code",
   "execution_count": 29,
   "metadata": {},
   "outputs": [
    {
     "data": {
      "text/plain": [
       "(6,)"
      ]
     },
     "execution_count": 29,
     "metadata": {},
     "output_type": "execute_result"
    }
   ],
   "source": [
    "w_sample.shape"
   ]
  },
  {
   "cell_type": "code",
   "execution_count": 30,
   "metadata": {},
   "outputs": [
    {
     "data": {
      "text/plain": [
       "(100, 1)"
      ]
     },
     "execution_count": 30,
     "metadata": {},
     "output_type": "execute_result"
    }
   ],
   "source": [
    "f_pred_mean.shape"
   ]
  },
  {
   "cell_type": "code",
   "execution_count": 31,
   "metadata": {},
   "outputs": [
    {
     "data": {
      "text/plain": [
       "(27, 1)"
      ]
     },
     "execution_count": 31,
     "metadata": {},
     "output_type": "execute_result"
    }
   ],
   "source": [
    "y.shape"
   ]
  },
  {
   "cell_type": "code",
   "execution_count": 51,
   "metadata": {},
   "outputs": [
    {
     "name": "stdout",
     "output_type": "stream",
     "text": [
      "The error is:  [[1.08364996]]\n"
     ]
    }
   ],
   "source": [
    "# compute mean at the training data and sum of squares error\n",
    "f_mean = np.dot(Phi, w_mean)\n",
    "sum_squares = np.dot((y - f_mean).T, (y - f_mean))\n",
    "print('The error is: ', sum_squares)"
   ]
  },
  {
   "cell_type": "markdown",
   "metadata": {},
   "source": [
    "### Computing Error Bars\n",
    "\n",
    "Finally, we can compute error bars for the predictions. The error bars are the standard deviations of the predictions for $\\mappingFunctionVector=\\basisMatrix\\mappingVector$ under the posterior density for $\\mappingVector$. The standard deviations of these predictions can be found from the variance of the prediction at each point. Those variances are the diagonal entries of the covariance matrix. We've already computed the form of the covariance under Gaussian expectations (see the derivations [here](https://nbviewer.jupyter.org/github/lawrennd/mlai2015/blob/master/week6.ipynb)), \n",
    "\n",
    "$$\\text{cov}\\left(\\mappingFunctionVector\\right)_{\\gaussianDist{\\mappingVector}{\\meanVector}{\\covarianceMatrix}} = \\basisMatrix\\covarianceMatrix \\basisMatrix^\\top$$\n",
    "\n",
    "which under the posterior density is given by\n",
    "\n",
    "$$\\text{cov}\\left(\\mappingFunctionVector\\right)_{\\gaussianDist{\\mappingVector}{\\meanVector_w}{\\covarianceMatrix_w}} = \\basisMatrix\\covarianceMatrix_w \\basisMatrix^\\top$$"
   ]
  },
  {
   "cell_type": "markdown",
   "metadata": {},
   "source": [
    "###  Question 3\n",
    "\n",
    "The error bars are given by computing the standard deviation of the predictions, $f$. For a given prediction $f_i$ the variance is $\\text{var}(f_i) = \\langle f_i^2\\rangle - \\langle f_i \\rangle^2$. This is given by the diagonal element of the covariance of $\\mathbf{f}$,\n",
    "$$\n",
    "\\text{var}(f_i) = \\boldsymbol{\\phi}_{i, :}^\\top \\mathbf{C}_w \\boldsymbol{\\phi}_{i, :}\n",
    "$$\n",
    "where $\\boldsymbol{\\phi}_{i, :}$ is the basis vector associated with the input location, $\\mathbf{x}_i$.\n",
    "\n",
    "Plot the mean function and the error bars for your basis."
   ]
  },
  {
   "cell_type": "code",
   "execution_count": 33,
   "metadata": {},
   "outputs": [
    {
     "data": {
      "text/plain": [
       "(6, 6)"
      ]
     },
     "execution_count": 33,
     "metadata": {},
     "output_type": "execute_result"
    }
   ],
   "source": [
    "w_cov.shape"
   ]
  },
  {
   "cell_type": "code",
   "execution_count": 34,
   "metadata": {},
   "outputs": [],
   "source": [
    "cov = np.dot(np.dot(Phi_pred, w_cov), Phi_pred.T)"
   ]
  },
  {
   "cell_type": "code",
   "execution_count": 35,
   "metadata": {},
   "outputs": [],
   "source": [
    "# Question 3 Answer Code\n",
    "# Write code for you answer to this question in this box\n",
    "\n",
    "# Compute variance at function values\n",
    "f_pred_var = np.diag(cov)"
   ]
  },
  {
   "cell_type": "code",
   "execution_count": 36,
   "metadata": {},
   "outputs": [
    {
     "data": {
      "text/plain": [
       "array([0.01245207, 0.0100646 , 0.00812766, 0.00656738, 0.00532029,\n",
       "       0.00433216, 0.00355676, 0.00295493, 0.00249362, 0.00214508,\n",
       "       0.00188618, 0.00169772, 0.0015639 , 0.00147182, 0.001411  ,\n",
       "       0.00137306, 0.00135136, 0.00134069, 0.00133704, 0.0013374 ,\n",
       "       0.00133954, 0.00134187, 0.00134333, 0.00134324, 0.00134122,\n",
       "       0.00133714, 0.00133102, 0.00132298, 0.00131325, 0.00130207,\n",
       "       0.0012897 , 0.00127643, 0.0012625 , 0.00124814, 0.00123355,\n",
       "       0.0012189 , 0.00120433, 0.00118994, 0.00117581, 0.00116199,\n",
       "       0.0011485 , 0.00113536, 0.00112256, 0.00111009, 0.00109794,\n",
       "       0.00108607, 0.00107449, 0.00106318, 0.00105215, 0.0010414 ,\n",
       "       0.00103098, 0.00102092, 0.0010113 , 0.00100218, 0.00099368,\n",
       "       0.00098591, 0.00097899, 0.00097307, 0.00096829, 0.0009648 ,\n",
       "       0.00096276, 0.00096231, 0.00096356, 0.00096664, 0.00097162,\n",
       "       0.00097854, 0.0009874 , 0.00099816, 0.0010107 , 0.00102487,\n",
       "       0.00104043, 0.00105708, 0.00107449, 0.00109224, 0.00110989,\n",
       "       0.001127  , 0.00114312, 0.00115786, 0.00117094, 0.00118225,\n",
       "       0.00119195, 0.00120052, 0.00120897, 0.00121891, 0.00123276,\n",
       "       0.00125399, 0.00128732, 0.00133904, 0.00141735, 0.00153274,\n",
       "       0.00169846, 0.001931  , 0.00225073, 0.0026825 , 0.00325647,\n",
       "       0.00400891, 0.00498319, 0.00623082, 0.00781271, 0.00980044])"
      ]
     },
     "execution_count": 36,
     "metadata": {},
     "output_type": "execute_result"
    }
   ],
   "source": [
    "f_pred_var"
   ]
  },
  {
   "cell_type": "code",
   "execution_count": 37,
   "metadata": {},
   "outputs": [],
   "source": [
    "f_pred_std = np.sqrt(f_pred_var)"
   ]
  },
  {
   "cell_type": "code",
   "execution_count": 38,
   "metadata": {},
   "outputs": [
    {
     "data": {
      "text/plain": [
       "array([0.11158885, 0.10032248, 0.09015356, 0.08103935, 0.07294033,\n",
       "       0.06581911, 0.05963857, 0.05435926, 0.04993611, 0.04631501,\n",
       "       0.04343017, 0.04120342, 0.03954624, 0.03836426, 0.03756326,\n",
       "       0.03705487, 0.03676086, 0.03661541, 0.03656558, 0.03657047,\n",
       "       0.03659968, 0.03663156, 0.03665147, 0.03665021, 0.03662271,\n",
       "       0.03656694, 0.03648308, 0.0363728 , 0.03623875, 0.03608415,\n",
       "       0.03591246, 0.03572719, 0.03553169, 0.03532903, 0.03512194,\n",
       "       0.03491279, 0.03470348, 0.03449554, 0.03429011, 0.03408796,\n",
       "       0.03388956, 0.03369513, 0.03350467, 0.03331807, 0.03313513,\n",
       "       0.03295563, 0.03277943, 0.03260645, 0.03243679, 0.03227074,\n",
       "       0.03210883, 0.03195185, 0.03180088, 0.03165729, 0.03152276,\n",
       "       0.03139922, 0.03128887, 0.03119408, 0.03111737, 0.03106131,\n",
       "       0.03102841, 0.03102105, 0.0310413 , 0.03109084, 0.03117078,\n",
       "       0.03128159, 0.03142295, 0.03159364, 0.03179155, 0.03201357,\n",
       "       0.03225563, 0.03251281, 0.03277937, 0.03304901, 0.03331505,\n",
       "       0.03357081, 0.03381   , 0.03402728, 0.03421896, 0.0343839 ,\n",
       "       0.03452458, 0.03464859, 0.03477028, 0.03491287, 0.03511072,\n",
       "       0.03541172, 0.03587919, 0.03659285, 0.03764767, 0.03915023,\n",
       "       0.04121236, 0.04394318, 0.04744181, 0.05179285, 0.05706549,\n",
       "       0.06331598, 0.07059171, 0.07893557, 0.08838952, 0.09899715])"
      ]
     },
     "execution_count": 38,
     "metadata": {},
     "output_type": "execute_result"
    }
   ],
   "source": [
    "f_pred_std"
   ]
  },
  {
   "cell_type": "code",
   "execution_count": 39,
   "metadata": {},
   "outputs": [],
   "source": [
    "# plot the mean and error bars at 2 standard deviations above and below the mean\n",
    "\n",
    "# Question 3 Answer Code\n",
    "# Write code for you answer to this question in this box\n",
    "\n",
    "# Compute variance at function values\n",
    "f_pred_var = np.diag(Phi_pred @ w_cov @ Phi_pred.T)\n",
    "f_pred_std = np.sqrt(f_pred_var)\n",
    "\n",
    "# plot the mean and error bars at 2 standard deviations above and below the mean\n",
    "plt.plot(x_pred, f_pred_mean, 'black')\n",
    "plt.plot(x, y, 'rx')\n",
    "# plt.errorbar(x_pred, f_pred_mean, f_pred_std)\n",
    "plt.fill_between(np.squeeze(x_pred), \n",
    "                 np.squeeze(f_pred_mean) - 2*f_pred_std, np.squeeze(f_pred_mean) + 2*f_pred_std, alpha=0.7)"
   ]
  },
  {
   "cell_type": "markdown",
   "metadata": {},
   "source": [
    "# <a id='partB'></a>Part B: Linear Regression with PyTorch"
   ]
  },
  {
   "cell_type": "markdown",
   "metadata": {},
   "source": [
    "\n",
    "## Objective\n",
    "\n",
    "* To perform linear regression using PyTorch for understanding the link between linear models and neural networks.\n",
    "\n",
    "**Suggested reading**: \n",
    "* What is PyTorch from [PyTorch tutorial](https://pytorch.org/tutorials/beginner/blitz/tensor_tutorial.html#sphx-glr-beginner-blitz-tensor-tutorial-py)\n",
    "\n",
    "#### Assumptions: basic python programming and [Anaconda](https://anaconda.org/) installed.\n",
    "\n"
   ]
  },
  {
   "cell_type": "markdown",
   "metadata": {},
   "source": [
    "## Why\n",
    "\n",
    "[Linear regression](https://en.wikipedia.org/wiki/Linear_regression) is a fundamental problem in statistics and machine learning. Using PyTorch, a deep learing library, to do linear regression will help bridge simple linear models with complex neural networks.\n",
    "\n",
    "## B1. PyTorch Installation and Basics\n",
    "\n",
    "### Install-1: direct installation (e.g., on your own machine with full installation right)\n",
    "\n",
    "#### Install [PyTorch](https://github.com/pytorch/pytorch) via [Anaconda](https://anaconda.org/)\n",
    "`conda install -c pytorch pytorch`\n",
    "\n",
    "When you are asked whether to proceed, say `y`\n",
    "\n",
    "#### Install [torchvision](https://github.com/pytorch/vision)\n",
    "`conda install -c pytorch torchvision`\n",
    "\n",
    "When you are asked whether to proceed, say `y`"
   ]
  },
  {
   "cell_type": "markdown",
   "metadata": {},
   "source": [
    "### Install-2: Set up Anaconda Python environment (e.g., on a university desktop)\n",
    "\n",
    "On a university desktop, you may not have permission to install new packages on the main environment of Anaconda. Please follow the instructions below to set up a new environment. This is also recommended if you have different python projects running that may require different environments."
   ]
  },
  {
   "cell_type": "markdown",
   "metadata": {},
   "source": [
    "Open a command line terminal.\n",
    "\n",
    "**Create a new conda environment with Python 3.6**<br>\n",
    "`conda create -n mlai19 python=3.6 anaconda`\n",
    "\n",
    "**Activate the conda environment `mlai19`**<br>\n",
    "`activate mlai19` (Windows)<br>\n",
    "`source activate mlai19` (Mac/Linux)<br>\n",
    "You will see `(mlai19)` on the left indciating your environment\n",
    "\n",
    "**Install Pytorch and Torchvision** (non-CUDA/GPU version for simplicity)<br>\n",
    "`conda install pytorch torchvision cpuonly -c pytorch`<br>\n",
    "If you have GPU, install the GPU version with command at [here](https://pytorch.org/)\n",
    "\n",
    "**Start Jupyter notebook server**: `jupyter notebook`"
   ]
  },
  {
   "cell_type": "markdown",
   "metadata": {},
   "source": [
    "### Tensor\n",
    "Optional: Go over the first two modules of [PyTorch tutorial](https://pytorch.org/tutorials/beginner/blitz/tensor_tutorial.html#sphx-glr-beginner-blitz-tensor-tutorial-py), *What is PyTorch* and *Autograd*\n",
    "\n",
    "`torch.Tensor` is \n",
    "a multidimensional array data structure (array). You may check out the full list of [tensor types](http://pytorch.org/docs/master/tensors.html) and various [tensor operations](https://pytorch.org/docs/stable/torch.html).\n"
   ]
  },
  {
   "cell_type": "markdown",
   "metadata": {},
   "source": [
    "### Computational Graph\n",
    "A computation graph defines/visualises a sequence of operations to go from input to model output. \n",
    "\n",
    "Consider a linear regression model $\\hat y = Wx + b$, where $x$ is our input, $W$ is a weight matrix, $b$ is a bias, and $\\hat y$ is the predicted output. As a computation graph, this looks like:\n",
    "\n",
    "![Linear Regression Computation Graph](https://imgur.com/IcBhTjS.png)"
   ]
  },
  {
   "cell_type": "markdown",
   "metadata": {},
   "source": [
    "PyTorch dynamically build the computational graph, for example\n",
    "![DynamicGraph.gif](https://raw.githubusercontent.com/pytorch/pytorch/master/docs/source/_static/img/dynamic_graph.gif)"
   ]
  },
  {
   "cell_type": "markdown",
   "metadata": {},
   "source": [
    "## B2. Linear Regression using PyTorch"
   ]
  },
  {
   "cell_type": "markdown",
   "metadata": {},
   "source": [
    "Let us start right away with implementing linear regression in PyTorch to study PyTorch concepts closely. This part follows the [PyTorch Linear regression example](https://github.com/pytorch/examples/tree/master/regression) that trains a **single fully-connected layer** to fit a 4th degree polynomial.\n",
    "\n",
    "### A synthetic linear regression problem\n",
    "\n",
    "* Generate model parameters, weight and bias. The weight vector and bias are both tensors, 1D and 0D, respectively. "
   ]
  },
  {
   "cell_type": "code",
   "execution_count": 40,
   "metadata": {},
   "outputs": [],
   "source": [
    "import torch\n",
    "import torch.nn.functional as F\n",
    "\n",
    "POLY_DEGREE = 4\n",
    "W_target = torch.randn(POLY_DEGREE, 1) * 5\n",
    "b_target = torch.randn(1) * 5"
   ]
  },
  {
   "cell_type": "code",
   "execution_count": 41,
   "metadata": {},
   "outputs": [
    {
     "name": "stdout",
     "output_type": "stream",
     "text": [
      "tensor([[ 0.6798],\n",
      "        [-9.4391],\n",
      "        [-2.6919],\n",
      "        [-5.4973]])\n",
      "tensor([ 10.0757])\n"
     ]
    }
   ],
   "source": [
    "print(W_target)\n",
    "print(b_target)"
   ]
  },
  {
   "cell_type": "markdown",
   "metadata": {},
   "source": [
    "* Next, define a number of functions to generate the input (variables) and output (target/response). "
   ]
  },
  {
   "cell_type": "code",
   "execution_count": 42,
   "metadata": {},
   "outputs": [],
   "source": [
    "def make_features(x):\n",
    "    \"\"\"Builds features i.e. a matrix with columns [x, x^2, x^3, x^4].\"\"\"\n",
    "    x = x.unsqueeze(1)\n",
    "    return torch.cat([x ** i for i in range(1, POLY_DEGREE+1)], 1)\n",
    "\n",
    "def f(x):\n",
    "    \"\"\"Approximated function.\"\"\"\n",
    "    return x.mm(W_target) + b_target.item()\n",
    "\n",
    "def poly_desc(W, b):\n",
    "    \"\"\"Creates a string description of a polynomial.\"\"\"\n",
    "    result = 'y = '\n",
    "    for i, w in enumerate(W):\n",
    "        result += '{:+.2f} x^{} '.format(w, len(W) - i)\n",
    "    result += '{:+.2f}'.format(b[0])\n",
    "    return result\n",
    "\n",
    "def get_batch(batch_size=32):\n",
    "    \"\"\"Builds a batch i.e. (x, f(x)) pair.\"\"\"\n",
    "    random = torch.randn(batch_size)\n",
    "    x = make_features(random)\n",
    "    y = f(x)\n",
    "    return x, y"
   ]
  },
  {
   "cell_type": "markdown",
   "metadata": {},
   "source": [
    "* Define a simple(st) neural network, which is a **single fully connected** (FC) layer. See [`torch.nn.Linear`](https://pytorch.org/docs/master/nn.html#torch.nn.Linear)"
   ]
  },
  {
   "cell_type": "code",
   "execution_count": 43,
   "metadata": {},
   "outputs": [
    {
     "name": "stdout",
     "output_type": "stream",
     "text": [
      "Linear(in_features=4, out_features=1, bias=True)\n"
     ]
    }
   ],
   "source": [
    "fc = torch.nn.Linear(W_target.size(0), 1)\n",
    "print(fc)"
   ]
  },
  {
   "cell_type": "markdown",
   "metadata": {},
   "source": [
    "    This is a *network* with four input units, one output unit, with a bias term.\n",
    "    \n",
    "* Now generate the data. Let us try to get five pairs of (x,y) first to inspect.\n"
   ]
  },
  {
   "cell_type": "code",
   "execution_count": 44,
   "metadata": {},
   "outputs": [
    {
     "name": "stdout",
     "output_type": "stream",
     "text": [
      "tensor([[ 1.9411e+00,  3.7680e+00,  7.3142e+00,  1.4198e+01],\n",
      "        [ 4.6818e-01,  2.1919e-01,  1.0262e-01,  4.8046e-02],\n",
      "        [-4.3379e-01,  1.8818e-01, -8.1630e-02,  3.5410e-02],\n",
      "        [ 2.5142e-01,  6.3214e-02,  1.5894e-02,  3.9960e-03],\n",
      "        [ 1.0091e-01,  1.0182e-02,  1.0275e-03,  1.0368e-04]])\n",
      "tensor([[-121.9109],\n",
      "        [   7.7846],\n",
      "        [   8.0296],\n",
      "        [   9.5852],\n",
      "        [  10.0448]])\n"
     ]
    }
   ],
   "source": [
    "sample_x, sample_y = get_batch(5)\n",
    "print(sample_x)\n",
    "print(sample_y)"
   ]
  },
  {
   "cell_type": "markdown",
   "metadata": {},
   "source": [
    "    Take a look at the FC layer weights (randomly initialised)"
   ]
  },
  {
   "cell_type": "code",
   "execution_count": 45,
   "metadata": {},
   "outputs": [
    {
     "name": "stdout",
     "output_type": "stream",
     "text": [
      "Parameter containing:\n",
      "tensor([[ 0.0807, -0.1537,  0.2688,  0.3471]])\n"
     ]
    }
   ],
   "source": [
    "print(fc.weight)"
   ]
  },
  {
   "cell_type": "markdown",
   "metadata": {},
   "source": [
    "    Reset the gradients to zero, perform a forward pass to get prediction, and compute the loss"
   ]
  },
  {
   "cell_type": "code",
   "execution_count": 46,
   "metadata": {},
   "outputs": [
    {
     "name": "stdout",
     "output_type": "stream",
     "text": [
      "32.46706771850586\n"
     ]
    }
   ],
   "source": [
    "fc.zero_grad()\n",
    "output = F.smooth_l1_loss(fc(sample_x), sample_y)\n",
    "loss = output.item()\n",
    "print(loss)"
   ]
  },
  {
   "cell_type": "markdown",
   "metadata": {},
   "source": [
    "    Random did not give a good prediction. Let us do a backpropagation and update model parameters with gradients."
   ]
  },
  {
   "cell_type": "code",
   "execution_count": 47,
   "metadata": {},
   "outputs": [],
   "source": [
    "output.backward() \n",
    "for param in fc.parameters():  \n",
    "    param.data.add_(-0.1 * param.grad.data)"
   ]
  },
  {
   "cell_type": "markdown",
   "metadata": {},
   "source": [
    "    Check the updated weights and respective loss"
   ]
  },
  {
   "cell_type": "code",
   "execution_count": 48,
   "metadata": {},
   "outputs": [
    {
     "name": "stdout",
     "output_type": "stream",
     "text": [
      "Parameter containing:\n",
      "tensor([[ 0.0496, -0.2195,  0.1233,  0.0649]])\n",
      "31.369983673095703\n"
     ]
    }
   ],
   "source": [
    "print(fc.weight)\n",
    "output = F.smooth_l1_loss(fc(sample_x), sample_y)\n",
    "loss = output.item()\n",
    "print(loss)"
   ]
  },
  {
   "cell_type": "markdown",
   "metadata": {},
   "source": [
    "   * Now keep feeding more data until the loss is small enough. "
   ]
  },
  {
   "cell_type": "code",
   "execution_count": 49,
   "metadata": {},
   "outputs": [],
   "source": [
    "from itertools import count\n",
    "for batch_idx in count(1):\n",
    "    # Get data\n",
    "    batch_x, batch_y = get_batch()\n",
    "\n",
    "    # Reset gradients\n",
    "    fc.zero_grad()\n",
    "\n",
    "    # Forward pass\n",
    "    output = F.smooth_l1_loss(fc(batch_x), batch_y)\n",
    "    loss = output.item()\n",
    "\n",
    "    # Backward pass\n",
    "    output.backward()\n",
    "\n",
    "    # Apply gradients\n",
    "    for param in fc.parameters():\n",
    "        param.data.add_(-0.1 * param.grad.data)\n",
    "\n",
    "    # Stop criterion\n",
    "    if loss < 1e-3:\n",
    "        break\n"
   ]
  },
  {
   "cell_type": "code",
   "execution_count": 50,
   "metadata": {},
   "outputs": [
    {
     "name": "stdout",
     "output_type": "stream",
     "text": [
      "Loss: 0.000392 after 601 batches\n",
      "==> Learned function:\ty = +0.67 x^4 -9.39 x^3 -2.68 x^2 -5.50 x^1 +10.06\n",
      "==> Actual function:\ty = +0.68 x^4 -9.44 x^3 -2.69 x^2 -5.50 x^1 +10.08\n"
     ]
    }
   ],
   "source": [
    "print('Loss: {:.6f} after {} batches'.format(loss, batch_idx))\n",
    "print('==> Learned function:\\t' + poly_desc(fc.weight.view(-1), fc.bias))\n",
    "print('==> Actual function:\\t' + poly_desc(W_target.view(-1), b_target))"
   ]
  },
  {
   "cell_type": "markdown",
   "metadata": {},
   "source": [
    "## B3. Exercises\n",
    "\n",
    "\n",
    "* Change the [loss function](https://pytorch.org/docs/stable/nn.html#loss-functions) to different choices and compare the results.\n",
    "  \n",
    "* Formulate another regression problem and solve it using `torch.nn`\n",
    "* Compare the `torch.nn` solution against the closed-form solution\n",
    "* Explore any other variations that you can think of to learn more\n",
    "\n",
    "\n",
    "# Acknowledgement\n",
    "Some part of this notebook is taken from the following sources\n",
    "\n",
    "* [PyTorch tutorial from CSE446, University of Washington](https://courses.cs.washington.edu/courses/cse446/18wi/sections/section7/446_pytorch_tutorial.html)"
   ]
  }
 ],
 "metadata": {
  "kernelspec": {
   "display_name": "Python 3",
   "language": "python",
   "name": "python3"
  },
  "language_info": {
   "codemirror_mode": {
    "name": "ipython",
    "version": 3
   },
   "file_extension": ".py",
   "mimetype": "text/x-python",
   "name": "python",
   "nbconvert_exporter": "python",
   "pygments_lexer": "ipython3",
<<<<<<< HEAD
   "version": "3.6.2"
=======
   "version": "3.6.6"
>>>>>>> a9807350f1d383ef4ce67c1fc035df58c46616ec
  }
 },
 "nbformat": 4,
 "nbformat_minor": 1
}

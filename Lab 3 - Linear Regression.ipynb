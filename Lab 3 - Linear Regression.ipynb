{
 "cells": [
  {
   "cell_type": "markdown",
   "metadata": {},
   "source": [
    "# Linear Algebra and Linear Regression\n",
    "\n",
    "### Modified by Mauricio Álvarez, 13th October 2019\n",
    "\n",
    "### 13th October 2015 Neil Lawrence\n",
    "\n",
    "\n",
    "## Sum of Squares Error\n",
    "\n",
    "Last week we considered a cost function for minimization of the error. We considered items (films) and users and assumed that each movie rating, $y_{i,j}$ could be summarised by an inner product between a vector associated with the item, $\\mathbf{v}_j$ and one associated with the user $\n",
    "\\mathbf{u}_i$. We justified the inner product as a measure of similarity in the space of 'movie subjects', where both the users and the items lived, giving the analogy of a library.\n",
    "\n",
    "To make predictions we encouraged the similarity to be high if the movie rating was high using the quadratic error function,\n",
    "$$\n",
    "E_{i,j}(\\mathbf{u}_i, \\mathbf{v}_j) = \\left(\\mathbf{u}_i^\\top \\mathbf{v}_j - y_{i,j}\\right)^2,\n",
    "$$\n",
    "which we then summed across all the observations to form the total error\n",
    "$$\n",
    "E(\\mathbf{U}, \\mathbf{V}) = \\sum_{i,j}s_{i,j}\\left(\\mathbf{u}_i^\\top \\mathbf{v}_j - y_{i,j}\\right)^2,\n",
    "$$\n",
    "where $s_{i,j}$ is an indicator variable which is set to 1 if the rating of movie $j$ by user $i$ is provided in our data set. \n",
    "\n",
    "This is known as a sum of squares error. Minimizing it was first proposed by [Legendre](http://en.wikipedia.org/wiki/Adrien-Marie_Legendre) in 1805. His book, which was on the orbit of comets, is available on google books, we can take a look at the relevant page by calling the code below. "
   ]
  },
  {
   "cell_type": "code",
   "execution_count": 1,
   "metadata": {},
   "outputs": [
    {
     "name": "stderr",
     "output_type": "stream",
     "text": [
      "/Users/Atsuki/.pyenv/versions/3.6.2/lib/python3.6/importlib/_bootstrap.py:205: RuntimeWarning: numpy.dtype size changed, may indicate binary incompatibility. Expected 96, got 88\n",
      "  return f(*args, **kwds)\n"
     ]
    },
    {
     "data": {
      "text/html": [
       "<iframe frameborder=\"0\" scrolling=\"yes\" style=\"border:0px\" src=\"http://books.google.co.uk/books?id=spcAAAAAMAAJ&pg=PA72&output=embed\", width=700 height=500></iframe>"
      ],
      "text/plain": [
       "<IPython.core.display.HTML object>"
      ]
     },
     "metadata": {},
     "output_type": "display_data"
    }
   ],
   "source": [
    "import pods\n",
    "pods.notebook.display_google_book(id='spcAAAAAMAAJ', page=72) "
   ]
  },
  {
   "cell_type": "markdown",
   "metadata": {},
   "source": [
    "Of course, the main text is in French, but the key part we are interested in can be roughly translated as\n",
    "\n",
    "\"In most matters where we take measures data through observation, the most accurate results they can offer, it is almost always leads to a system of equations of the form\n",
    "$$E = a + bx + cy + fz + etc .$$\n",
    "where a, b, c, f etc are the known coefficients and  x , y, z etc are unknown and must be determined by the condition that the value of E is reduced, for each equation, to an amount or zero or very small.\"\n",
    "\n",
    "He continues\n",
    "\n",
    "\"Of all the principles that we can offer for this item, I think it is not broader, more accurate, nor easier than the one we have used in previous research application, and that is to make the minimum sum of the squares of the errors. By this means, it is between the errors a kind of balance that prevents extreme to prevail, is very specific to make known the state of the closest to the truth system. The sum of the squares of the errors $E^2 + \\left.E^\\prime\\right.^2 + \\left.E^{\\prime\\prime}\\right.^2 + etc$ being\n",
    "\\begin{align*}   &(a + bx + cy + fz + etc)^2 \\\\\n",
    "+ &(a^\\prime + b^\\prime x + c^\\prime y + f^\\prime z + etc ) ^2\\\\\n",
    "+ &(a^{\\prime\\prime} + b^{\\prime\\prime}x  + c^{\\prime\\prime}y +  f^{\\prime\\prime}z + etc )^2 \\\\\n",
    "+ & etc\n",
    "\\end{align*}\n",
    "if we wanted a minimum, by varying x alone, we will have the equation ...\"\n",
    "\n",
    "This is the earliest know printed version of the problem of least squares. The notation, however, is a little awkward for mordern eyes. In particular Legendre doesn't make use of the sum sign,\n",
    "$$\n",
    "\\sum_{i=1}^3 z_i = z_1 + z_2 + z_3\n",
    "$$\n",
    "nor does he make use of the inner product. \n",
    "\n",
    "In our notation, if we were to do linear regression, we would need to subsititue:\n",
    "\\begin{align*}\n",
    "a &\\leftarrow y_1-c, \\\\ a^\\prime &\\leftarrow y_2-c,\\\\ a^{\\prime\\prime} &\\leftarrow y_3 -c,\\\\ \n",
    "\\text{etc.} \n",
    "\\end{align*}\n",
    "to introduce the data observations $\\{y_i\\}_{i=1}^{n}$ alongside $c$, the offset. We would then introduce the input locations\n",
    "\\begin{align*}\n",
    "b & \\leftarrow x_1,\\\\\n",
    "b^\\prime & \\leftarrow x_2,\\\\\n",
    "b^{\\prime\\prime} & \\leftarrow x_3,\\\\\n",
    "\\text{etc.}\n",
    "\\end{align*}\n",
    "and finally the gradient of the function\n",
    "$$x \\leftarrow -m.$$\n",
    "The remaining coefficients ($c$ and $f$) would then be zero. That would give us \n",
    "\\begin{align*}   &(y_1 - (mx_1+c))^2 \\\\\n",
    "+ &(y_2 -(mx_2 + c))^2\\\\\n",
    "+ &(y_3 -(mx_3 + c))^2 \\\\\n",
    "+ & \\text{etc.}\n",
    "\\end{align*}\n",
    "which we would write in the modern notation for sums as\n",
    "$$\n",
    "\\sum_{i=1}^n (y_i-(mx_i + c))^2\n",
    "$$\n",
    "which is recognised as the sum of squares error for a linear regression.\n",
    "\n",
    "This shows the advantage of modern [summation operator](http://en.wikipedia.org/wiki/Summation), $\\sum$,  in keeping our mathematical notation compact. Whilst it may look more complicated the first time you see it, understanding the mathematical rules that go around it, allows us to go much further with the notation.\n",
    "\n",
    "Inner products (or [dot products](http://en.wikipedia.org/wiki/Dot_product)) are similar. They allow us to write\n",
    "$$\n",
    "\\sum_{i=1}^q u_i v_i\n",
    "$$\n",
    "in a more compact notation,\n",
    "$\n",
    "\\mathbf{u}\\cdot\\mathbf{v}.\n",
    "$\n",
    "\n",
    "Here we are using bold face to represent vectors, and we assume that the individual elements of a vector $\\mathbf{z}$ are given as a series of scalars\n",
    "$$\n",
    "\\mathbf{z} = \\begin{bmatrix} z_1\\\\ z_2\\\\ \\vdots\\\\ z_n \\end{bmatrix}\n",
    "$$\n",
    "which are each indexed by their position in the vector.\n",
    "\n",
    "## Linear Algebra\n",
    "\n",
    "Linear algebra provides a very similar role, when we introduce [linear algebra](http://en.wikipedia.org/wiki/Linear_algebra), it is because we are faced with a large number of addition and multiplication operations. These operations need to be done together and would be very tedious to write down as a group. So the first reason we reach for linear algebra is for a more compact representation of our mathematical formulae. "
   ]
  },
  {
   "cell_type": "markdown",
   "metadata": {},
   "source": [
    "### Running Example: Olympic Marathons\n",
    "\n",
    "Now we will load in the Olympic marathon data. This is data of the olympic marath times for the men's marathon from the first olympics in 1896 up until the London 2012 olympics."
   ]
  },
  {
   "cell_type": "code",
   "execution_count": 2,
   "metadata": {},
   "outputs": [],
   "source": [
    "data = pods.datasets.olympic_marathon_men()\n",
    "x = data['X']\n",
    "y = data['Y']"
   ]
  },
  {
   "cell_type": "markdown",
   "metadata": {},
   "source": [
    "You can see what these values are by typing:"
   ]
  },
  {
   "cell_type": "code",
   "execution_count": 3,
   "metadata": {},
   "outputs": [
    {
     "name": "stdout",
     "output_type": "stream",
     "text": [
      "[[1896.]\n",
      " [1900.]\n",
      " [1904.]\n",
      " [1908.]\n",
      " [1912.]\n",
      " [1920.]\n",
      " [1924.]\n",
      " [1928.]\n",
      " [1932.]\n",
      " [1936.]\n",
      " [1948.]\n",
      " [1952.]\n",
      " [1956.]\n",
      " [1960.]\n",
      " [1964.]\n",
      " [1968.]\n",
      " [1972.]\n",
      " [1976.]\n",
      " [1980.]\n",
      " [1984.]\n",
      " [1988.]\n",
      " [1992.]\n",
      " [1996.]\n",
      " [2000.]\n",
      " [2004.]\n",
      " [2008.]\n",
      " [2012.]]\n",
      "[[4.47083333]\n",
      " [4.46472926]\n",
      " [5.22208333]\n",
      " [4.15467867]\n",
      " [3.90331675]\n",
      " [3.56951267]\n",
      " [3.82454477]\n",
      " [3.62483707]\n",
      " [3.59284275]\n",
      " [3.53880792]\n",
      " [3.67010309]\n",
      " [3.39029111]\n",
      " [3.43642612]\n",
      " [3.20583007]\n",
      " [3.13275665]\n",
      " [3.32819844]\n",
      " [3.13583758]\n",
      " [3.0789588 ]\n",
      " [3.10581822]\n",
      " [3.06552909]\n",
      " [3.09357349]\n",
      " [3.16111704]\n",
      " [3.14255244]\n",
      " [3.08527867]\n",
      " [3.10265829]\n",
      " [2.99877553]\n",
      " [3.03392977]]\n"
     ]
    }
   ],
   "source": [
    "print(x)\n",
    "print(y)"
   ]
  },
  {
   "cell_type": "markdown",
   "metadata": {},
   "source": [
    "Note that they are not `pandas` data frames for this example, they are just arrays of dimensionality $n\\times 1$, where $n$ is the number of data."
   ]
  },
  {
   "cell_type": "markdown",
   "metadata": {},
   "source": [
    "The aim of this lab is to have you coding linear regression in python. We will do it in two ways, once using iterative updates (coordinate ascent) and then using linear algebra. The linear algebra approach will not only work much better, it is easy to extend to multiple input linear regression and *non-linear* regression using basis functions."
   ]
  },
  {
   "cell_type": "markdown",
   "metadata": {},
   "source": [
    "### Plotting the Data\n",
    "\n",
    "You can make a plot of $y$ vs $x$ with the following command:"
   ]
  },
  {
   "cell_type": "code",
   "execution_count": 4,
   "metadata": {},
   "outputs": [
    {
     "data": {
      "text/plain": [
       "Text(0,0.5,'pace in min/km')"
      ]
     },
     "execution_count": 4,
     "metadata": {},
     "output_type": "execute_result"
    },
    {
     "data": {
      "image/png": "[encoded data removed]",
      "text/plain": [
       "<matplotlib.figure.Figure at 0x10c9121d0>"
      ]
     },
     "metadata": {},
     "output_type": "display_data"
    }
   ],
   "source": [
    "%matplotlib inline \n",
    "import pylab as plt\n",
    "\n",
    "plt.plot(x, y, 'rx')\n",
    "plt.xlabel('year')\n",
    "plt.ylabel('pace in min/km')"
   ]
  },
  {
   "cell_type": "markdown",
   "metadata": {},
   "source": [
    "### Maximum Likelihood: Iterative Solution"
   ]
  },
  {
   "cell_type": "markdown",
   "metadata": {},
   "source": [
    "Now we will take the maximum likelihood approach we derived in the lecture to fit a line, $y_i=mx_i + c$, to the data you've plotted. We are trying to minimize the error function:"
   ]
  },
  {
   "cell_type": "markdown",
   "metadata": {},
   "source": [
    "$$E(m, c) =  \\sum_{i=1}^n(y_i-mx_i-c)^2$$"
   ]
  },
  {
   "cell_type": "markdown",
   "metadata": {},
   "source": [
    "with respect to $m$ and $c$. We can start with an initial guess for $m$, "
   ]
  },
  {
   "cell_type": "code",
   "execution_count": 5,
   "metadata": {},
   "outputs": [],
   "source": [
    "m = -0.4\n",
    "c = 80 "
   ]
  },
  {
   "cell_type": "markdown",
   "metadata": {},
   "source": [
    "Then we use the maximum likelihood update to find an estimate for the offset, $c$.\n",
    "\n",
    "### Coordinate Descent\n",
    "\n",
    "In the movie recommender system example, we minimised the objective function by steepest descent based gradient methods. Our updates required us to compute the gradient at the position we were located, then to update the gradient according to the direction of steepest descent. This time, we will take another approach. It is known as *coordinate descent*. In coordinate descent, we choose to move one parameter at a time. Ideally, we design an algorithm that at each step moves the parameter to its minimum value. At each step we choose to move the individual parameter to its minimum.\n",
    "\n",
    "To find the minimum, we look for the point in the curve where the gradient is zero. This can be found by taking the gradient of $E(m,c)$ with respect to the parameter. \n",
    "\n",
    "#### Update for Offset\n",
    "\n",
    "Let's consider the parameter $c$ first. The gradient goes nicely through the summation operator, and we obtain\n",
    "$$\n",
    "\\frac{\\text{d}E(m,c)}{\\text{d}c} = -\\sum_{i=1}^n 2(y_i-mx_i-c).\n",
    "$$\n",
    "Now we want the point that is a minimum. A minimum is an example of a [*stationary point*](http://en.wikipedia.org/wiki/Stationary_point), the stationary points are those points of the function where the gradient is zero. They are found by solving the equation for $\\frac{\\text{d}E(m,c)}{\\text{d}c} = 0$. Substituting in to our gradient, we can obtain the following equation, \n",
    "$$\n",
    "0 = -\\sum_{i=1}^n 2(y_i-mx_i-c)\n",
    "$$\n",
    "which can be reorganised as follows,\n",
    "$$\n",
    "c^* = \\frac{\\sum_{i=1}^n(y_i-m^*x_i)}{n}.\n",
    "$$\n",
    "The fact that the stationary point is easily extracted in this manner implies that the solution is *unique*. There is only one stationary point for this system. Traditionally when trying to determine the type of stationary point we have encountered we now compute the *second derivative*,\n",
    "$$\n",
    "\\frac{\\text{d}^2E(m,c)}{\\text{d}c^2} = 2n.\n",
    "$$\n",
    "The second derivative is positive, which in turn implies that we have found a minimum of the function. This means that setting $c$ in this way will take us to the lowest point along that axes."
   ]
  },
  {
   "cell_type": "code",
   "execution_count": 6,
   "metadata": {},
   "outputs": [
    {
     "name": "stdout",
     "output_type": "stream",
     "text": [
      "786.0197711453593\n"
     ]
    }
   ],
   "source": [
    "# set c to the minimum\n",
    "c = (y - m*x).mean()\n",
    "print(c)"
   ]
  },
  {
   "cell_type": "markdown",
   "metadata": {},
   "source": [
    "#### Update for Slope\n",
    "\n",
    "Now we have the offset set to the minimum value, in coordinate descent, the next step is to optimise another parameter. Only one further parameter remains. That is the slope of the system. \n",
    "\n",
    "Now we can turn our attention to the slope. We once again peform the same set of computations to find the minima. We end up with an update equation of the following form.\n",
    "\n",
    "$$m^* = \\frac{\\sum_{i=1}^n (y_i - c)x_i}{\\sum_{i=1}^n x_i^2}$$\n",
    "\n",
    "Communication of mathematics in data science is an essential skill, in a moment, you will be asked to rederive the equation above. Before we do that, however, we will briefly review how to write mathematics in the notebook.\n",
    "\n",
    "### $\\LaTeX$ for Maths\n",
    "\n",
    "These cells use [Markdown format](http://en.wikipedia.org/wiki/Markdown). You can include maths in your markdown using [$\\LaTeX$ syntax](http://en.wikipedia.org/wiki/LaTeX), all you have to do is write your answer inside dollar signs, as follows:\n",
    "\n",
    "To write a fraction, we write `$\\frac{a}{b}$`, and it will display like this $\\frac{a}{b}$. To write a subscript we write `$a_b$` which will appear as $a_b$. To write a superscript (for example in a polynomial) we write `$a^b$` which will appear as $a^b$. There are lots of other macros as well, for example we can do greek letters such as `$\\alpha, \\beta, \\gamma$` rendering as $\\alpha, \\beta, \\gamma$. And we can do sum and intergral signs as `$\\sum \\int \\int$`.\n",
    "\n",
    "You can combine many of these operations together for composing expressions."
   ]
  },
  {
   "cell_type": "markdown",
   "metadata": {},
   "source": [
    "### Question 1 \n",
    "\n",
    "Convert the following python code expressions into $\\LaTeX$j, writing your answers below. In each case write your answer as a single equality (i.e. your maths should only contain one expression, not several lines of expressions). For the purposes of your $\\LaTeX$ please assume that `x` and `w` are $n$ dimensional vectors. \n",
    "\n",
    "(a) \n",
    "``` python\n",
    "f = x.sum()\n",
    "```\n",
    "\n",
    "(b) \n",
    "``` python \n",
    "m = x.mean()\n",
    "```\n",
    "\n",
    "(c) \n",
    "``` python\n",
    "g = (x*w).sum()\n",
    "```"
   ]
  },
  {
   "cell_type": "markdown",
   "metadata": {},
   "source": [
    "#### Question 1 Answer\n",
    "\n",
    "Write your answer to the question in this box.\n",
    "\n",
    "(a)\n",
    "$f = \\sum x$ \n",
    "\n",
    "(b)\n",
    "$m = \\sum_{i=1}^n \\frac{x}{n}$\n",
    "\n",
    "(c)\n",
    "$g = \\sum_{i=1}^n x_i w_i$"
   ]
  },
  {
   "cell_type": "markdown",
   "metadata": {},
   "source": [
    "### Gradient With Respect to the Slope\n",
    "Now that you've had a little training in writing maths with $\\LaTeX$, we will be able to use it to answer questions. The next thing we are going to do is a little differentiation practice. "
   ]
  },
  {
   "cell_type": "markdown",
   "metadata": {},
   "source": [
    "### Question 2\n",
    "\n",
    "Derive the the gradient of the objective function with respect to the slope, $m$. Rearrange it to show that the update equation written above does find the stationary points of the objective function. By computing its derivative show that it's a minimum."
   ]
  },
  {
   "cell_type": "markdown",
   "metadata": {},
   "source": [
    "#### Question 2 Answer\n",
    "\n",
    "**Derive the the gradient of the objective function with respect to the slope, $m$**\n",
    "\n",
    "\n",
    "\\begin{align*}\n",
    "  E(m, c) = \\sum_{i=1}^n (y_i-mx_i-c)^2\\\\\n",
    "  \\frac{\\text{d}}{\\text{d}m}E(m, c) = -2\\sum_{i=1}^n x_i (y_i - mx_i - c) \n",
    "\\end{align*}\n",
    "\n",
    "\n",
    "\n",
    "**Rearrange it to show that the update equation written above does find the stationary points of the objective function.**\n",
    "\n",
    "\n",
    "\\begin{align*}\n",
    "  0 = -2\\sum_{i=1}^n x_i (y_i - mx_i - c) \\\\\n",
    "  0 = 2m\\sum_{i=1}^n x^2_i -2 \\sum_{i=1}^n x_i(y_i - c) \\\\\n",
    "  2 \\sum_{i=1}^n x_i(y_i - c)  = 2m\\sum_{i=1}^n x^2_i\\\\\n",
    "  m = \\frac{\\sum_{i=1}^n x_i(y_i - c)}{\\sum_{i=1}^n x^2_i}\\\\\n",
    "  m = \\frac{\\sum_{i=1}^n (y_i - c)x_i}{\\sum_{i=1}^n x^2_i}\n",
    "\\end{align*}\n",
    "\n",
    "\n",
    "                       \n",
    "                       \n",
    "                       \n",
    "**By computing the second derivative show that its a minimum.**\n",
    "\n",
    "\\begin{align*}\n",
    "  \\frac{\\text{d}}{\\text{d}m}E(m, c) = -2\\sum_{i=1}^n x_i (y_i - mx_i - c) \\\\\n",
    "  \\frac{\\text{d}}{\\text{d}m}E(m, c) = 2m\\sum_{i=1}^n x^2_i -2 \\sum_{i=1}^n x_i(y_i - c) \\\\\n",
    "  \\frac{\\text{d}^2}{\\text{d}m^2}E(m, c) = 2\\sum_{i=1}^n x^2_i \n",
    "\\end{align*}\n",
    "\n",
    "\n",
    "which is positive because $x^2_i$ is positive. This indicates that the solution is a minimum.\n",
    "\n",
    "----\n",
    "\n",
    "Write your answer to the question in this box."
   ]
  },
  {
   "cell_type": "code",
   "execution_count": 7,
   "metadata": {},
   "outputs": [
    {
     "name": "stdout",
     "output_type": "stream",
     "text": [
      "-0.3998724072997095\n"
     ]
    }
   ],
   "source": [
    "m = ((y - c)*x).sum()/(x**2).sum()\n",
    "print(m)"
   ]
  },
  {
   "cell_type": "code",
   "execution_count": 8,
   "metadata": {},
   "outputs": [
    {
     "data": {
      "text/plain": [
       "'\\nm = (y - c).sum() / x.sum()\\nprint(m)\\n'"
      ]
     },
     "execution_count": 8,
     "metadata": {},
     "output_type": "execute_result"
    }
   ],
   "source": [
    "\"\"\"\n",
    "m = (y - c).sum() / x.sum()\n",
    "print(m)\n",
    "\"\"\""
   ]
  },
  {
   "cell_type": "markdown",
   "metadata": {},
   "source": [
    "We can have a look at how good our fit is by computing the prediction across the input space. First create a vector of 'test points',"
   ]
  },
  {
   "cell_type": "code",
   "execution_count": 9,
   "metadata": {},
   "outputs": [
    {
     "name": "stdout",
     "output_type": "stream",
     "text": [
      "[[1890.        ]\n",
      " [1891.00775194]\n",
      " [1892.01550388]\n",
      " [1893.02325581]\n",
      " [1894.03100775]\n",
      " [1895.03875969]\n",
      " [1896.04651163]\n",
      " [1897.05426357]\n",
      " [1898.0620155 ]\n",
      " [1899.06976744]\n",
      " [1900.07751938]\n",
      " [1901.08527132]\n",
      " [1902.09302326]\n",
      " [1903.10077519]\n",
      " [1904.10852713]\n",
      " [1905.11627907]\n",
      " [1906.12403101]\n",
      " [1907.13178295]\n",
      " [1908.13953488]\n",
      " [1909.14728682]\n",
      " [1910.15503876]\n",
      " [1911.1627907 ]\n",
      " [1912.17054264]\n",
      " [1913.17829457]\n",
      " [1914.18604651]\n",
      " [1915.19379845]\n",
      " [1916.20155039]\n",
      " [1917.20930233]\n",
      " [1918.21705426]\n",
      " [1919.2248062 ]\n",
      " [1920.23255814]\n",
      " [1921.24031008]\n",
      " [1922.24806202]\n",
      " [1923.25581395]\n",
      " [1924.26356589]\n",
      " [1925.27131783]\n",
      " [1926.27906977]\n",
      " [1927.28682171]\n",
      " [1928.29457364]\n",
      " [1929.30232558]\n",
      " [1930.31007752]\n",
      " [1931.31782946]\n",
      " [1932.3255814 ]\n",
      " [1933.33333333]\n",
      " [1934.34108527]\n",
      " [1935.34883721]\n",
      " [1936.35658915]\n",
      " [1937.36434109]\n",
      " [1938.37209302]\n",
      " [1939.37984496]\n",
      " [1940.3875969 ]\n",
      " [1941.39534884]\n",
      " [1942.40310078]\n",
      " [1943.41085271]\n",
      " [1944.41860465]\n",
      " [1945.42635659]\n",
      " [1946.43410853]\n",
      " [1947.44186047]\n",
      " [1948.4496124 ]\n",
      " [1949.45736434]\n",
      " [1950.46511628]\n",
      " [1951.47286822]\n",
      " [1952.48062016]\n",
      " [1953.48837209]\n",
      " [1954.49612403]\n",
      " [1955.50387597]\n",
      " [1956.51162791]\n",
      " [1957.51937984]\n",
      " [1958.52713178]\n",
      " [1959.53488372]\n",
      " [1960.54263566]\n",
      " [1961.5503876 ]\n",
      " [1962.55813953]\n",
      " [1963.56589147]\n",
      " [1964.57364341]\n",
      " [1965.58139535]\n",
      " [1966.58914729]\n",
      " [1967.59689922]\n",
      " [1968.60465116]\n",
      " [1969.6124031 ]\n",
      " [1970.62015504]\n",
      " [1971.62790698]\n",
      " [1972.63565891]\n",
      " [1973.64341085]\n",
      " [1974.65116279]\n",
      " [1975.65891473]\n",
      " [1976.66666667]\n",
      " [1977.6744186 ]\n",
      " [1978.68217054]\n",
      " [1979.68992248]\n",
      " [1980.69767442]\n",
      " [1981.70542636]\n",
      " [1982.71317829]\n",
      " [1983.72093023]\n",
      " [1984.72868217]\n",
      " [1985.73643411]\n",
      " [1986.74418605]\n",
      " [1987.75193798]\n",
      " [1988.75968992]\n",
      " [1989.76744186]\n",
      " [1990.7751938 ]\n",
      " [1991.78294574]\n",
      " [1992.79069767]\n",
      " [1993.79844961]\n",
      " [1994.80620155]\n",
      " [1995.81395349]\n",
      " [1996.82170543]\n",
      " [1997.82945736]\n",
      " [1998.8372093 ]\n",
      " [1999.84496124]\n",
      " [2000.85271318]\n",
      " [2001.86046512]\n",
      " [2002.86821705]\n",
      " [2003.87596899]\n",
      " [2004.88372093]\n",
      " [2005.89147287]\n",
      " [2006.89922481]\n",
      " [2007.90697674]\n",
      " [2008.91472868]\n",
      " [2009.92248062]\n",
      " [2010.93023256]\n",
      " [2011.9379845 ]\n",
      " [2012.94573643]\n",
      " [2013.95348837]\n",
      " [2014.96124031]\n",
      " [2015.96899225]\n",
      " [2016.97674419]\n",
      " [2017.98449612]\n",
      " [2018.99224806]\n",
      " [2020.        ]]\n"
     ]
    }
   ],
   "source": [
    "import numpy as np\n",
    "x_test = np.linspace(1890, 2020, 130)[:, None]\n",
    "print(x_test)"
   ]
  },
  {
   "cell_type": "markdown",
   "metadata": {},
   "source": [
    "Now use this vector to compute some test predictions,"
   ]
  },
  {
   "cell_type": "code",
   "execution_count": 10,
   "metadata": {},
   "outputs": [],
   "source": [
    "f_test = m*x_test + c"
   ]
  },
  {
   "cell_type": "markdown",
   "metadata": {},
   "source": [
    "Now plot those test predictions with a blue line on the same plot as the data,"
   ]
  },
  {
   "cell_type": "code",
   "execution_count": 11,
   "metadata": {},
   "outputs": [
    {
     "data": {
      "text/plain": [
       "[<matplotlib.lines.Line2D at 0x110b26e48>]"
      ]
     },
     "execution_count": 11,
     "metadata": {},
     "output_type": "execute_result"
    },
    {
     "data": {
      "image/png": "[encoded data removed]",
      "text/plain": [
       "<matplotlib.figure.Figure at 0x110b93c18>"
      ]
     },
     "metadata": {},
     "output_type": "display_data"
    }
   ],
   "source": [
    "plt.plot(x_test, f_test, 'b-')\n",
    "plt.plot(x, y, 'rx')"
   ]
  },
  {
   "cell_type": "markdown",
   "metadata": {},
   "source": [
    "The fit isn't very good, we need to iterate between these parameter updates in a loop to improve the fit, we have to do this several times,"
   ]
  },
  {
   "cell_type": "code",
   "execution_count": 12,
   "metadata": {},
   "outputs": [
    {
     "name": "stdout",
     "output_type": "stream",
     "text": [
      "-0.012980647746436915\n",
      "28.8952457367221\n"
     ]
    }
   ],
   "source": [
    "for i in np.arange(100000):\n",
    "    m = ((y - c)*x).sum()/(x*x).sum()\n",
    "    c = (y-m*x).sum()/y.shape[0]\n",
    "print(m)\n",
    "print(c)"
   ]
  },
  {
   "cell_type": "markdown",
   "metadata": {},
   "source": [
    "And let's try plotting the result again"
   ]
  },
  {
   "cell_type": "code",
   "execution_count": 13,
   "metadata": {},
   "outputs": [
    {
     "data": {
      "text/plain": [
       "[<matplotlib.lines.Line2D at 0x112cca940>]"
      ]
     },
     "execution_count": 13,
     "metadata": {},
     "output_type": "execute_result"
    },
    {
     "data": {
      "image/png": "[encoded data removed]",
      "text/plain": [
       "<matplotlib.figure.Figure at 0x112cd6128>"
      ]
     },
     "metadata": {},
     "output_type": "display_data"
    }
   ],
   "source": [
    "f_test = m*x_test + c\n",
    "plt.plot(x_test, f_test, 'b-')\n",
    "plt.plot(x, y, 'rx')"
   ]
  },
  {
   "cell_type": "markdown",
   "metadata": {},
   "source": [
    "Clearly we need more iterations than 10! In the next question you will add more iterations and report on the error as optimisation proceeds. "
   ]
  },
  {
   "cell_type": "markdown",
   "metadata": {},
   "source": [
    "### Question 3\n",
    "\n",
    "There is a problem here, we seem to need many interations to get to a good solution. Let's explore what's going on. Write code which alternates between updates of `c` and `m`. Include the following features in your code.\n",
    "\n",
    "(a) Initialise with `m=-0.4` and `c=80`.\n",
    "(b) Every 10 iterations compute the value of the objective function for the training data and print it to the screen (you'll find hints on this in the lab from last week.\n",
    "(c) Cause the code to stop running when the error change over less than 10 iterations is smaller than $1\\times10^{-4}$. This is known as a stopping criterion.\n",
    "\n",
    "Why do we need so many iterations to get to the solution?"
   ]
  },
  {
   "cell_type": "code",
   "execution_count": 14,
   "metadata": {},
   "outputs": [
    {
     "name": "stdout",
     "output_type": "stream",
     "text": [
      "0 obj: 3.0772995223286044\n",
      "10 obj: 3.0700868679340543\n",
      "20 obj: 3.062921622303328\n",
      "30 obj: 3.0558034738187327\n",
      "40 obj: 3.0487321129108\n",
      "50 obj: 3.0417072320449074\n",
      "60 obj: 3.034728525707789\n",
      "70 obj: 3.027795690394375\n",
      "80 obj: 3.020908424594515\n",
      "90 obj: 3.014066428779851\n",
      "100 obj: 3.0072694053909053\n",
      "110 obj: 3.0005170588239785\n",
      "120 obj: 2.9938090954183902\n",
      "130 obj: 2.987145223443739\n",
      "140 obj: 2.980525153087094\n",
      "150 obj: 2.9739485964405166\n",
      "160 obj: 2.9674152674884895\n",
      "170 obj: 2.96092488209545\n",
      "180 obj: 2.9544771579934634\n",
      "190 obj: 2.948071814769901\n",
      "200 obj: 2.9417085738553976\n",
      "210 obj: 2.9353871585115274\n",
      "220 obj: 2.9291072938188703\n",
      "230 obj: 2.922868706665099\n",
      "240 obj: 2.916671125733021\n",
      "250 obj: 2.9105142814888074\n",
      "260 obj: 2.9043979061703107\n",
      "270 obj: 2.8983217337753198\n",
      "280 obj: 2.8922855000501313\n",
      "290 obj: 2.886288942477914\n",
      "300 obj: 2.8803318002674234\n",
      "310 obj: 2.8744138143415237\n",
      "320 obj: 2.868534727326036\n",
      "330 obj: 2.862694283538524\n",
      "340 obj: 2.8568922289770873\n",
      "350 obj: 2.8511283113094494\n",
      "360 obj: 2.8454022798618333\n",
      "370 obj: 2.839713885608226\n",
      "380 obj: 2.8340628811594173\n",
      "390 obj: 2.8284490207522746\n",
      "400 obj: 2.8228720602390847\n",
      "410 obj: 2.8173317570769143\n",
      "420 obj: 2.811827870317047\n",
      "430 obj: 2.8063601605945903\n",
      "440 obj: 2.8009283901178956\n",
      "450 obj: 2.795532322658385\n",
      "460 obj: 2.790171723540202\n",
      "470 obj: 2.7848463596299786\n",
      "480 obj: 2.779555999326781\n",
      "490 obj: 2.7743004125519724\n",
      "500 obj: 2.769079370739185\n",
      "510 obj: 2.7638926468244787\n",
      "520 obj: 2.7587400152363672\n",
      "530 obj: 2.753621251886024\n",
      "540 obj: 2.748536134157626\n",
      "550 obj: 2.743484440898544\n",
      "560 obj: 2.7384659524097934\n",
      "570 obj: 2.733480450436504\n",
      "580 obj: 2.7285277181583494\n",
      "590 obj: 2.7236075401802053\n",
      "600 obj: 2.7187197025227188\n",
      "610 obj: 2.7138639926129784\n",
      "620 obj: 2.7090401992754325\n",
      "630 obj: 2.7042481127224436\n",
      "640 obj: 2.6994875245454057\n",
      "650 obj: 2.694758227705544\n",
      "660 obj: 2.6900600165249795\n",
      "670 obj: 2.6853926866777122\n",
      "680 obj: 2.680756035180804\n",
      "690 obj: 2.6761498603855056\n",
      "700 obj: 2.671573961968512\n",
      "710 obj: 2.6670281409232772\n",
      "720 obj: 2.6625121995512613\n",
      "730 obj: 2.6580259414534364\n",
      "740 obj: 2.6535691715216916\n",
      "750 obj: 2.649141695930375\n",
      "760 obj: 2.644743322127832\n",
      "770 obj: 2.640373858828082\n",
      "780 obj: 2.6360331160024235\n",
      "790 obj: 2.6317209048712313\n",
      "800 obj: 2.6274370378957297\n",
      "810 obj: 2.6231813287698595\n",
      "820 obj: 2.61895359241211\n",
      "830 obj: 2.6147536449575313\n",
      "840 obj: 2.6105813037497123\n",
      "850 obj: 2.6064363873328604\n",
      "860 obj: 2.602318715443846\n",
      "870 obj: 2.5982281090044608\n",
      "880 obj: 2.5941643901135563\n",
      "890 obj: 2.5901273820393143\n",
      "900 obj: 2.5861169092116056\n",
      "910 obj: 2.5821327972142685\n",
      "920 obj: 2.5781748727776623\n",
      "930 obj: 2.574242963770959\n",
      "940 obj: 2.5703368991948223\n",
      "950 obj: 2.566456509173809\n",
      "960 obj: 2.5626016249491466\n",
      "970 obj: 2.558772078871303\n",
      "980 obj: 2.5549677043926744\n",
      "990 obj: 2.5511883360603376\n",
      "1000 obj: 2.5474338095090108\n",
      "1010 obj: 2.5437039614536654\n",
      "1020 obj: 2.5399986296826293\n",
      "1030 obj: 2.5363176530503795\n",
      "1040 obj: 2.5326608714706604\n",
      "1050 obj: 2.5290281259094134\n",
      "1060 obj: 2.525419258377944\n",
      "1070 obj: 2.52183411192601\n",
      "1080 obj: 2.5182725306350067\n",
      "1090 obj: 2.5147343596111615\n",
      "1100 obj: 2.511219444978839\n",
      "1110 obj: 2.5077276338738224\n",
      "1120 obj: 2.504258774436658\n",
      "1130 obj: 2.5008127158060978\n",
      "1140 obj: 2.497389308112463\n",
      "1150 obj: 2.4939884024711945\n",
      "1160 obj: 2.4906098509763472\n",
      "1170 obj: 2.4872535066941457\n",
      "1180 obj: 2.4839192236566414\n",
      "1190 obj: 2.4806068568553172\n",
      "1200 obj: 2.477316262234772\n",
      "1210 obj: 2.4740472966865106\n",
      "1220 obj: 2.4707998180426918\n",
      "1230 obj: 2.4675736850699135\n",
      "1240 obj: 2.464368757463136\n",
      "1250 obj: 2.461184895839526\n",
      "1260 obj: 2.4580219617324133\n",
      "1270 obj: 2.4548798175852613\n",
      "1280 obj: 2.451758326745711\n",
      "1290 obj: 2.448657353459617\n",
      "1300 obj: 2.445576762865128\n",
      "1310 obj: 2.442516420986855\n",
      "1320 obj: 2.439476194730015\n",
      "1330 obj: 2.4364559518746725\n",
      "1340 obj: 2.4334555610699837\n",
      "1350 obj: 2.430474891828436\n",
      "1360 obj: 2.4275138145202346\n",
      "1370 obj: 2.4245722003676624\n",
      "1380 obj: 2.4216499214393856\n",
      "1390 obj: 2.4187468506450385\n",
      "1400 obj: 2.4158628617296185\n",
      "1410 obj: 2.4129978292679137\n",
      "1420 obj: 2.410151628659239\n",
      "1430 obj: 2.407324136121833\n",
      "1440 obj: 2.404515228687594\n",
      "1450 obj: 2.401724784196644\n",
      "1460 obj: 2.398952681292143\n",
      "1470 obj: 2.3961987994148424\n",
      "1480 obj: 2.39346301879797\n",
      "1490 obj: 2.3907452204619513\n",
      "1500 obj: 2.388045286209328\n",
      "1510 obj: 2.385363098619513\n",
      "1520 obj: 2.38269854104369\n",
      "1530 obj: 2.380051497599839\n",
      "1540 obj: 2.3774218531675895\n",
      "1550 obj: 2.3748094933832817\n",
      "1560 obj: 2.372214304634931\n",
      "1570 obj: 2.3696361740573684\n",
      "1580 obj: 2.3670749895272696\n",
      "1590 obj: 2.3645306396583097\n",
      "1600 obj: 2.362003013796297\n",
      "1610 obj: 2.3594920020143095\n",
      "1620 obj: 2.3569974951080837\n",
      "1630 obj: 2.3545193845910903\n",
      "1640 obj: 2.352057562689882\n",
      "1650 obj: 2.3496119223394407\n",
      "1660 obj: 2.347182357178435\n",
      "1670 obj: 2.3447687615446884\n",
      "1680 obj: 2.3423710304705265\n",
      "1690 obj: 2.33998905967822\n",
      "1700 obj: 2.3376227455755085\n",
      "1710 obj: 2.3352719852509405\n",
      "1720 obj: 2.3329366764695916\n",
      "1730 obj: 2.330616717668497\n",
      "1740 obj: 2.3283120079522646\n",
      "1750 obj: 2.326022447088693\n",
      "1760 obj: 2.3237479355043953\n",
      "1770 obj: 2.3214883742804546\n",
      "1780 obj: 2.319243665148243\n",
      "1790 obj: 2.317013710484967\n",
      "1800 obj: 2.314798413309507\n",
      "1810 obj: 2.3125976772782435\n",
      "1820 obj: 2.3104114066807875\n",
      "1830 obj: 2.308239506435876\n",
      "1840 obj: 2.3060818820872244\n",
      "1850 obj: 2.303938439799378\n",
      "1860 obj: 2.3018090863536713\n",
      "1870 obj: 2.2996937291441784\n",
      "1880 obj: 2.297592276173676\n",
      "1890 obj: 2.295504636049623\n",
      "1900 obj: 2.293430717980197\n",
      "1910 obj: 2.2913704317703365\n",
      "1920 obj: 2.2893236878179115\n",
      "1930 obj: 2.2872903971096483\n",
      "1940 obj: 2.285270471217402\n",
      "1950 obj: 2.2832638222942716\n",
      "1960 obj: 2.2812703630707576\n",
      "1970 obj: 2.2792900068510007\n",
      "1980 obj: 2.2773226675089715\n",
      "1990 obj: 2.2753682594847473\n",
      "2000 obj: 2.2734266977808053\n",
      "2010 obj: 2.2714978979583127\n",
      "2020 obj: 2.2695817761334514\n",
      "2030 obj: 2.2676782489737763\n",
      "2040 obj: 2.2657872336945255\n",
      "2050 obj: 2.263908648055192\n",
      "2060 obj: 2.2620424103557375\n",
      "2070 obj: 2.2601884394331972\n",
      "2080 obj: 2.2583466546580766\n",
      "2090 obj: 2.256516975930822\n",
      "2100 obj: 2.254699323678421\n",
      "2110 obj: 2.252893618850891\n",
      "2120 obj: 2.2510997829177954\n",
      "2130 obj: 2.249317737864946\n",
      "2140 obj: 2.2475474061908844\n",
      "2150 obj: 2.245788710903611\n",
      "2160 obj: 2.2440415755171674\n",
      "2170 obj: 2.2423059240483676\n",
      "2180 obj: 2.2405816810133867\n",
      "2190 obj: 2.238868771424693\n",
      "2200 obj: 2.237167120787498\n",
      "2210 obj: 2.2354766550967637\n",
      "2220 obj: 2.2337973008338405\n",
      "2230 obj: 2.23212898496336\n",
      "2240 obj: 2.230471634929989\n",
      "2250 obj: 2.2288251786552653\n",
      "2260 obj: 2.2271895445345558\n",
      "2270 obj: 2.225564661433879\n",
      "2280 obj: 2.2239504586867858\n",
      "2290 obj: 2.222346866091299\n",
      "2300 obj: 2.2207538139069616\n",
      "2310 obj: 2.2191712328516586\n",
      "2320 obj: 2.217599054098679\n",
      "2330 obj: 2.2160372092736864\n",
      "2340 obj: 2.214485630451815\n",
      "2350 obj: 2.212944250154612\n",
      "2360 obj: 2.2114130013472466\n",
      "2370 obj: 2.2098918174354076\n",
      "2380 obj: 2.2083806322625925\n",
      "2390 obj: 2.206879380107077\n",
      "2400 obj: 2.2053879956791764\n",
      "2410 obj: 2.2039064141183538\n",
      "2420 obj: 2.2024345709903335\n",
      "2430 obj: 2.2009724022844575\n",
      "2440 obj: 2.1995198444107262\n",
      "2450 obj: 2.1980768341972006\n",
      "2460 obj: 2.1966433088870994\n",
      "2470 obj: 2.1952192061361955\n",
      "2480 obj: 2.193804464009993\n",
      "2490 obj: 2.192399020981154\n",
      "2500 obj: 2.1910028159267023\n",
      "2510 obj: 2.1896157881254723\n",
      "2520 obj: 2.1882378772553666\n",
      "2530 obj: 2.1868690233908543\n",
      "2540 obj: 2.1855091670002262\n",
      "2550 obj: 2.1841582489431035\n",
      "2560 obj: 2.182816210467853\n",
      "2570 obj: 2.1814829932089848\n",
      "2580 obj: 2.180158539184656\n",
      "2590 obj: 2.1788427907941634\n",
      "2600 obj: 2.177535690815382\n",
      "2610 obj: 2.1762371824023177\n",
      "2620 obj: 2.174947209082618\n",
      "2630 obj: 2.1736657147551455\n",
      "2640 obj: 2.172392643687467\n",
      "2650 obj: 2.1711279405135446\n",
      "2660 obj: 2.1698715502312242\n",
      "2670 obj: 2.1686234181998802\n",
      "2680 obj: 2.167383490138031\n",
      "2690 obj: 2.1661517121210427\n",
      "2700 obj: 2.164928030578617\n",
      "2710 obj: 2.163712392292691\n",
      "2720 obj: 2.162504744394963\n",
      "2730 obj: 2.161305034364597\n",
      "2740 obj: 2.1601132100260205\n",
      "2750 obj: 2.1589292195465903\n",
      "2760 obj: 2.157753011434361\n",
      "2770 obj: 2.156584534535863\n",
      "2780 obj: 2.155423738033826\n",
      "2790 obj: 2.1542705714450254\n",
      "2800 obj: 2.1531249846180582\n",
      "2810 obj: 2.151986927731148\n",
      "2820 obj: 2.1508563512900545\n",
      "2830 obj: 2.1497332061257857\n",
      "2840 obj: 2.1486174433925807\n",
      "2850 obj: 2.1475090145657405\n",
      "2860 obj: 2.1464078714394774\n",
      "2870 obj: 2.1453139661249345\n",
      "2880 obj: 2.144227251047985\n",
      "2890 obj: 2.1431476789472046\n",
      "2900 obj: 2.142075202871806\n",
      "2910 obj: 2.141009776179676\n",
      "2920 obj: 2.1399513525351868\n",
      "2930 obj: 2.1388998859073265\n",
      "2940 obj: 2.1378553305676453\n",
      "2950 obj: 2.1368176410882698\n",
      "2960 obj: 2.1357867723398725\n",
      "2970 obj: 2.134762679489859\n",
      "2980 obj: 2.13374531800022\n",
      "2990 obj: 2.1327346436257533\n",
      "3000 obj: 2.1317306124120585\n",
      "3010 obj: 2.130733180693647\n",
      "stopped at 3011\n",
      "-0.01508321512409134\n",
      "33.00849051034086\n"
     ]
    }
   ],
   "source": [
    "# Question 3 Answer Code\n",
    "# Write code for you answer to this question in this box\n",
    "\n",
    "# (a) Initialise with m=-0.4 and c=80\n",
    "m = -0.4\n",
    "c = 40\n",
    "stp_criterion = 1e-4\n",
    "last_obj = 0.0\n",
    "\n",
    "# (b) Every 10 iterations compute the value of the objective function for the training data and print it to the screen\n",
    "cnt = 0\n",
    "while True:\n",
    "    m = ((y - c)*x).sum()/(x*x).sum()\n",
    "    c = (y-m*x).sum()/y.shape[0]\n",
    "    obj = ((y - m * x - c) * (y - m * x - c)).sum()\n",
    "    \n",
    "    if abs(last_obj - obj) < stp_criterion:\n",
    "        print(f'stopped at {cnt}')\n",
    "        break\n",
    "    \n",
    "    if cnt % 10 == 0:\n",
    "        print(f'{cnt} obj: {obj}')\n",
    "        last_obj = obj\n",
    "        \n",
    "    cnt += 1\n",
    "        \n",
    "print(m)\n",
    "print(c)\n"
   ]
  },
  {
   "cell_type": "code",
   "execution_count": 15,
   "metadata": {},
   "outputs": [
    {
     "data": {
      "text/plain": [
       "[<matplotlib.lines.Line2D at 0x10523c630>]"
      ]
     },
     "execution_count": 15,
     "metadata": {},
     "output_type": "execute_result"
    },
    {
     "data": {
      "image/png": "[encoded data removed]",
      "text/plain": [
       "<matplotlib.figure.Figure at 0x10523ce48>"
      ]
     },
     "metadata": {},
     "output_type": "display_data"
    }
   ],
   "source": [
    "f_test = m*x_test + c\n",
    "plt.plot(x_test, f_test, 'b-')\n",
    "plt.plot(x, y, 'rx')"
   ]
  },
  {
   "cell_type": "markdown",
   "metadata": {},
   "source": [
    "#### Question 3 Answer Here\n",
    "\n",
    "Write your answer to the question in this box.\n",
    "\n",
    "every update only changes subtle value. and initial value for c was relatively large compared to the estimated value\n",
    "\n",
    "----\n",
    "We need so many iterations because the parameters are strongly correlated with each other. The best value of $c$ is dependent on the value of $m$ and vice versa."
   ]
  },
  {
   "cell_type": "markdown",
   "metadata": {},
   "source": [
    "## Multiple Input Solution with Linear Algebra\n",
    "\n",
    "You've now seen how slow it can be to perform a coordinate ascent on a system. Another approach to solving the system (which is not always possible, particularly in *non-linear* systems) is to go direct to the minimum. To do this we need to introduce *linear algebra*. We will represent all our errors and functions in the form of linear algebra. \n",
    "\n",
    "As we mentioned above, linear algebra is just a shorthand for performing lots of multiplications and additions simultaneously. What does it have to do with our system then? Well the first thing to note is that the linear function we were trying to fit has the following form:\n",
    "$$\n",
    "f(x) = mx + c\n",
    "$$\n",
    "the classical form for a straight line. From a linear algebraic perspective we are looking for multiplications and additions. We are also looking to separate our parameters from our data. The data is the *givens* remember, in French the word is données literally translated means *givens* that's great, because we don't need to change the data, what we need to change are the parameters (or variables) of the model. In this function the data comes in through $x$, and the parameters are $m$ and $c$. \n",
    "\n",
    "What we'd like to create is a vector of parameters and a vector of data. Then we could represent the system with vectors that represent the data, and vectors that represent the parameters. \n",
    "\n",
    "We look to turn the multiplications and additions into a linear algebraic form, we have one multiplication ($m\\times c$) and one addition ($mx + c$). But we can turn this into a inner product by writing it in the following way,\n",
    "$$\n",
    "f(x) = m \\times x + c \\times 1,\n",
    "$$\n",
    "in other words we've extracted the unit value, from the offset, $c$. We can think of this unit value like an extra item of data, because it is always given to us, and it is always set to 1 (unlike regular data, which is likely to vary!). We can therefore write each input data location, $\\mathbf{x}$, as a vector\n",
    "$$\n",
    "\\mathbf{x} = \\begin{bmatrix} 1\\\\ x\\end{bmatrix}.\n",
    "$$\n",
    "\n",
    "Now we choose to also turn our parameters into a vector. The parameter vector will be defined to contain \n",
    "$$\n",
    "\\mathbf{w} = \\begin{bmatrix} c \\\\ m\\end{bmatrix}\n",
    "$$\n",
    "because if we now take the inner product between these to vectors we recover\n",
    "$$\n",
    "\\mathbf{x}\\cdot\\mathbf{w} = 1 \\times c + x \\times m = mx + c\n",
    "$$\n",
    "In `numpy` we can define this vector as follows"
   ]
  },
  {
   "cell_type": "code",
   "execution_count": 16,
   "metadata": {},
   "outputs": [],
   "source": [
    "# define the vector w\n",
    "w = np.zeros(shape=(2, 1))\n",
    "w[0] = m\n",
    "w[1] = c"
   ]
  },
  {
   "cell_type": "markdown",
   "metadata": {},
   "source": [
    "This gives us the equivalence between original operation and an operation in vector space. Whilst the notation here isn't a lot shorter, the beauty is that we will be able to add as many features as we like and still keep the same representation. In general, we are now moving to a system where each of our predictions is given by an inner product. When we want to represent a linear product in linear algebra, we tend to do it with the transpose operation, so since we have $\\mathbf{a}\\cdot\\mathbf{b} = \\mathbf{a}^\\top\\mathbf{b}$ we can write\n",
    "$$\n",
    "f(\\mathbf{x}_i) = \\mathbf{x}_i^\\top\\mathbf{w}.\n",
    "$$\n",
    "Where we've assumed that each data point, $\\mathbf{x}_i$, is now written by appending a 1 onto the original vector\n",
    "$$\n",
    "\\mathbf{x}_i = \n",
    "\\begin{bmatrix} \n",
    "1 \\\\\n",
    "x_i\n",
    "\\end{bmatrix}\n",
    "$$\n",
    "\n",
    "## Design Matrix\n",
    "\n",
    "We can do this for the entire data set to form a [*design matrix*](http://en.wikipedia.org/wiki/Design_matrix) $\\mathbf{X}$,\n",
    "\n",
    "$$\\mathbf{X} = \\begin{bmatrix} \n",
    "\\mathbf{x}_1^\\top \\\\\\ \n",
    "\\mathbf{x}_2^\\top \\\\\\ \n",
    "\\vdots \\\\\\\n",
    "\\mathbf{x}_n^\\top\n",
    "\\end{bmatrix} = \\begin{bmatrix}\n",
    "1 & x_1 \\\\\\\n",
    "1 & x_2 \\\\\\\n",
    "\\vdots & \\vdots \\\\\\\n",
    "1 & x_n \n",
    "\\end{bmatrix},$$\n",
    "\n",
    "which in `numpy` can be done with the following commands:"
   ]
  },
  {
   "cell_type": "code",
   "execution_count": 17,
   "metadata": {},
   "outputs": [
    {
     "name": "stdout",
     "output_type": "stream",
     "text": [
      "[[1.000e+00 1.896e+03]\n",
      " [1.000e+00 1.900e+03]\n",
      " [1.000e+00 1.904e+03]\n",
      " [1.000e+00 1.908e+03]\n",
      " [1.000e+00 1.912e+03]\n",
      " [1.000e+00 1.920e+03]\n",
      " [1.000e+00 1.924e+03]\n",
      " [1.000e+00 1.928e+03]\n",
      " [1.000e+00 1.932e+03]\n",
      " [1.000e+00 1.936e+03]\n",
      " [1.000e+00 1.948e+03]\n",
      " [1.000e+00 1.952e+03]\n",
      " [1.000e+00 1.956e+03]\n",
      " [1.000e+00 1.960e+03]\n",
      " [1.000e+00 1.964e+03]\n",
      " [1.000e+00 1.968e+03]\n",
      " [1.000e+00 1.972e+03]\n",
      " [1.000e+00 1.976e+03]\n",
      " [1.000e+00 1.980e+03]\n",
      " [1.000e+00 1.984e+03]\n",
      " [1.000e+00 1.988e+03]\n",
      " [1.000e+00 1.992e+03]\n",
      " [1.000e+00 1.996e+03]\n",
      " [1.000e+00 2.000e+03]\n",
      " [1.000e+00 2.004e+03]\n",
      " [1.000e+00 2.008e+03]\n",
      " [1.000e+00 2.012e+03]]\n"
     ]
    }
   ],
   "source": [
    "X = np.hstack((np.ones_like(x), x))\n",
    "print(X)"
   ]
  },
  {
   "cell_type": "markdown",
   "metadata": {},
   "source": [
    "### Writing the Objective with Linear Algebra\n",
    "\n",
    "When we think of the objective function, we can think of it as the errors where the error is defined in a similar way to what it was in Legendre's day $y_i - f(\\mathbf{x}_i)$, in statistics these errors are also sometimes called [*residuals*](http://en.wikipedia.org/wiki/Errors_and_residuals_in_statistics). So we can think as the objective and the prediction function as two separate parts, first we have,\n",
    "$$\n",
    "E(\\mathbf{w}) = \\sum_{i=1}^n (y_i - f(\\mathbf{x}_i; \\mathbf{w}))^2,\n",
    "$$\n",
    "where we've made the function $f(\\cdot)$'s dependence on the parameters $\\mathbf{w}$ explicit in this equation. Then we have the definition of the function itself,\n",
    "$$\n",
    "f(\\mathbf{x}_i; \\mathbf{w}) = \\mathbf{x}_i^\\top \\mathbf{w}.\n",
    "$$\n",
    "Let's look again at these two equations and see if we can identify any inner products. The first equation is a sum of squares, which is promising. Any sum of squares can be represented by an inner product,\n",
    "$$\n",
    "a = \\sum_{i=1}^{k} b^2_i = \\mathbf{b}^\\top\\mathbf{b},\n",
    "$$\n",
    "so if we wish to represent $E(\\mathbf{w})$ in this way, all we need to do is convert the sum operator to an inner product. We can get a vector from that sum operator by placing both $y_i$ and $f(\\mathbf{x}_i; \\mathbf{w})$ into vectors, which we do by defining \n",
    "$$\n",
    "\\mathbf{y} = \\begin{bmatrix}y_1\\\\y_2\\\\ \\vdots \\\\ y_n\\end{bmatrix}\n",
    "$$\n",
    "and defining\n",
    "$$\n",
    "\\mathbf{f}(\\mathbf{X}; \\mathbf{w}) = \\begin{bmatrix}f(\\mathbf{x}_1; \\mathbf{w})\\\\f(\\mathbf{x}_2; \\mathbf{w})\\\\ \\vdots \\\\ f(\\mathbf{x}_n; \\mathbf{w})\\end{bmatrix}.\n",
    "$$\n",
    "The second of these is actually a vector-valued function. This term may appear intimidating, but the idea is straightforward. A vector valued function is simply a vector whose elements are themselves defined as *functions*, i.e. it is a vector of functions, rather than a vector of scalars. The idea is so straightforward, that we are going to ignore it for the moment, and barely use it in the derivation. But it will reappear later when we introduce *basis functions*. So we will, for the moment, ignore the dependence of $\\mathbf{f}$ on $\\mathbf{w}$ and $\\mathbf{X}$ and simply summarise it by a vector of numbers\n",
    "$$\n",
    "\\mathbf{f} = \\begin{bmatrix}f_1\\\\f_2\\\\ \\vdots \\\\ f_n\\end{bmatrix}.\n",
    "$$\n",
    "This allows us to write our objective in the folowing, linear algebraic form,\n",
    "$$\n",
    "E(\\mathbf{w}) = (\\mathbf{y} - \\mathbf{f})^\\top(\\mathbf{y} - \\mathbf{f})\n",
    "$$\n",
    "from the rules of inner products.\n",
    "\n",
    "But what of our matrix $\\mathbf{X}$ of input data? At this point, we need to dust off [*matrix-vector multiplication*](http://en.wikipedia.org/wiki/Matrix_multiplication). Matrix multiplication is simply a convenient way of performing many inner products together, and it's exactly what we need to summarise the operation\n",
    "$$\n",
    "f_i = \\mathbf{x}_i^\\top\\mathbf{w}.\n",
    "$$\n",
    "This operation tells us that each element of the vector $\\mathbf{f}$ (our vector valued function) is given by an inner product between $\\mathbf{x}_i$ and $\\mathbf{w}$. In other words it is a series of inner products. Let's look at the definition of matrix multiplication, it takes the form\n",
    "$$\n",
    "\\mathbf{c} = \\mathbf{B}\\mathbf{a}\n",
    "$$\n",
    "where $\\mathbf{c}$ might be a $k$ dimensional vector (which we can intepret as a $k\\times 1$ dimensional matrix), and $\\mathbf{B}$ is a $k\\times k$ dimensional matrix and $\\mathbf{a}$ is a $k$ dimensional vector ($k\\times 1$ dimensional matrix). \n",
    "\n",
    "The result of this multiplication is of the form\n",
    "$$\n",
    "\\begin{bmatrix}c_1\\\\c_2 \\\\ \\vdots \\\\ a_k\\end{bmatrix} = \n",
    "\\begin{bmatrix} b_{1,1} & b_{1, 2} & \\dots & b_{1, k} \\\\\n",
    "b_{2, 1} & b_{2, 2} & \\dots & b_{2, k} \\\\\n",
    "\\vdots & \\vdots & \\ddots & \\vdots \\\\\n",
    "b_{k, 1} & b_{k, 2} & \\dots & b_{k, k} \\end{bmatrix} \\begin{bmatrix}a_1\\\\a_2 \\\\ \\vdots\\\\ c_k\\end{bmatrix} = \\begin{bmatrix} b_{1, 1}a_1 + b_{1, 2}a_2 + \\dots + b_{1, k}a_k\\\\\n",
    "b_{2, 1}a_1 + b_{2, 2}a_2 + \\dots + b_{2, k}a_k \\\\ \n",
    "\\vdots\\\\ \n",
    "b_{k, 1}a_1 + b_{k, 2}a_2 + \\dots + b_{k, k}a_k\\end{bmatrix}\n",
    "$$\n",
    "so we see that each element of the result, $\\mathbf{a}$ is simply the inner product between each *row* of $\\mathbf{B}$ and the vector $\\mathbf{c}$. Because we have defined each element of $\\mathbf{f}$ to be given by the inner product between each *row* of the design matrix and the vector $\\mathbf{w}$ we now can write the full operation in one matrix multiplication,\n",
    "$$\n",
    "\\mathbf{f} = \\mathbf{X}\\mathbf{w}.\n",
    "$$"
   ]
  },
  {
   "cell_type": "code",
   "execution_count": 18,
   "metadata": {},
   "outputs": [
    {
     "name": "stdout",
     "output_type": "stream",
     "text": [
      "(27, 2)\n",
      "(2, 1)\n"
     ]
    }
   ],
   "source": [
    "print(X.shape)\n",
    "print(w.shape)\n",
    "f = np.dot(X, w) # np.dot does matrix multiplication in python"
   ]
  },
  {
   "cell_type": "markdown",
   "metadata": {},
   "source": [
    "Combining this result with our objective function,\n",
    "$$\n",
    "E(\\mathbf{w}) = (\\mathbf{y} - \\mathbf{f})^\\top(\\mathbf{y} - \\mathbf{f})\n",
    "$$\n",
    "we find we have defined the *model* with two equations. One equation tells us the form of our predictive function and how it depends on its parameters, the other tells us the form of our objective function."
   ]
  },
  {
   "cell_type": "code",
   "execution_count": 19,
   "metadata": {},
   "outputs": [
    {
     "name": "stdout",
     "output_type": "stream",
     "text": [
      "Error function is: [[1.1261089e+11]]\n"
     ]
    }
   ],
   "source": [
    "resid = (y-f)\n",
    "E = np.dot(resid.T, resid) # matrix multiplication on a single vector is equivalent to a dot product.\n",
    "print(\"Error function is:\", E)"
   ]
  },
  {
   "cell_type": "markdown",
   "metadata": {},
   "source": [
    "### Question 4\n",
    "\n",
    "The prediction for our movie recommender system had the form\n",
    "$$\n",
    "f_{i,j} = \\mathbf{u}_i^\\top \\mathbf{v}_j\n",
    "$$\n",
    "and the objective function was then\n",
    "$$\n",
    "E = \\sum_{i,j} s_{i,j}(y_{i,j} - f_{i, j})^2\n",
    "$$\n",
    "Try writing this down in matrix and vector form. How many of the terms can you do? For each variable and parameter carefully think about whether it should be represented as a matrix or vector. Do as many of the terms as you can. Use $\\LaTeX$ to give your answers and give the *dimensions* of any matrices you create."
   ]
  },
  {
   "cell_type": "markdown",
   "metadata": {},
   "source": [
    "#### Question 4 Answer\n",
    "\n",
    "Write your answer to the question in this box.\n",
    "\n",
    "When we have matrices $\\mathbf{Y} \\in \\mathbb{R}^{|i| \\times |j|}$ and $\\mathbf{f} \\in \\mathbb{R}^{|i| \\times |j|}$. Also, $\\mathbf{S} \\in \\mathbb{R}^{|i| \\times 1}$, $E = \\sum_{i,j} s_{i,j}(y_{i,j} - f_{i, j})^2$ can be expressed as the following equation:\n",
    "\n",
    "\n",
    "----\n",
    "\n",
    "##### Alternative 1\n",
    "\n",
    "**values of $\\mathbf{u}_i$**\n",
    "\n",
    "Can be combined together as a matrix $\\mathbf{U}\\in \\Re^{n\\times q}$ where $n$ is number of users, $q$ is number of dimensions of the embedding ($q=2$ in last week's exercise)\n",
    "\n",
    "\n",
    "$$\n",
    "\\mathbf{U} = \\begin{bmatrix} \n",
    "                \\mathbf{u}_1^{\\top}\\\\\n",
    "                \\mathbf{u}_2^{\\top}\\\\\n",
    "                \\vdots \\\\\n",
    "                \\mathbf{u}_n^{\\top}\\\\\n",
    "             \\end{bmatrix}   \n",
    "$$\n",
    "\n",
    "**values of $\\mathbf{v}_j$**\n",
    "\n",
    "Can be combined together as a matrix $\\mathbf{V}\\in \\Re^{m\\times q}$ where $m$ is number of movies, $q$ is number of dimensions of the embedding (again $q=2$ in last week''s exercise).\n",
    "\n",
    "\n",
    "$$\n",
    "\\mathbf{V} = \\begin{bmatrix} \n",
    "                \\mathbf{v}_1^{\\top}\\\\\n",
    "                \\mathbf{v}_2^{\\top}\\\\\n",
    "                \\vdots \\\\\n",
    "                \\mathbf{v}_m^{\\top}\\\\\n",
    "             \\end{bmatrix}   \n",
    "$$\n",
    "\n",
    "**values of $f_{ij}$** \n",
    "\n",
    "Can be written as a matrix: $\\mathbf{F}\\in\\Re^{n\\times m}$ where\n",
    "\n",
    "\n",
    "$$\n",
    "\\mathbf{F} = \\mathbf{U}\\mathbf{V}^{\\top}= \n",
    "             \\begin{bmatrix} \n",
    "                \\mathbf{u}_1^{\\top}\\\\\n",
    "                \\mathbf{u}_2^{\\top}\\\\\n",
    "                \\vdots \\\\\n",
    "                \\mathbf{u}_n^{\\top}\\\\\n",
    "             \\end{bmatrix}   \n",
    "             \\begin{bmatrix} \n",
    "                \\mathbf{v}_1 & \\mathbf{v}_2 & \\cdots & \\mathbf{v}_m\\\\\n",
    "             \\end{bmatrix}  \n",
    "            =\n",
    "            \\begin{bmatrix} \n",
    "                \\mathbf{u}_1^{\\top}\\mathbf{v}_1 & \\cdots & \\mathbf{u}_1^{\\top}\\mathbf{v}_m\\\\\n",
    "               \\mathbf{u}_2^{\\top}\\mathbf{v}_1 & \\cdots & \\mathbf{u}_2^{\\top}\\mathbf{v}_m\\\\\n",
    "                \\vdots \\\\\n",
    "                \\mathbf{u}_n^{\\top}\\mathbf{v}_1 & \\cdots & \\mathbf{u}_n^{\\top}\\mathbf{v}_n\\\\\n",
    "             \\end{bmatrix}   \n",
    "$$\n",
    "\n",
    "\n",
    "\n",
    "\n",
    "\n",
    "**values of $y_{ij}$**\n",
    "\n",
    "Can be written as a matrix: $\\mathbf{Y}\\in\\Re^{n\\times m}$\n",
    "\n",
    "\n",
    "\n",
    "**values of $s_{ij}$**\n",
    "\n",
    "Can be written as a matrix: $\\mathbf{S}\\in\\Re^{n\\times m}$, where $s_{ij}=0$ or $1$.\n",
    "\n",
    "\n",
    "We can create a matrix $\\mathbf{E}$ defined as\n",
    "\n",
    "$$\n",
    "\\mathbf{E} = \\mathbf{S}\\circ (\\mathbf{Y} - \\mathbf{F}),\n",
    "$$\n",
    "\n",
    "where $\\circ$ represents the Hadamard product or the pointwise product between two matrices of the same size.\n",
    "\n",
    "Finally, the objective function can be written as\n",
    "$$\n",
    "E = \\sum_{i,j} s_{i,j}(y_{i,j} - f_{i, j})^2 = \\operatorname{trace}(\\mathbf{E}^{\\top} \\mathbf{E}),\n",
    "$$\n",
    "where $\\operatorname{trace}$ is the trace of the matrix.\n",
    "\n",
    "\n",
    "#### Alternative 2\n",
    "\n",
    "We create a vector $\\mathbf{f}$ containing *ALL* the elements $f_{i,j}$. This vector has dimensions $\\mathbf{f}\\in\\Re^{nm\\times 1}$. The first $n$ elements are the predictions for the first movie, the following $n$ elements are the predictions for the second movie until the last $n$ elements that correspond to the predictions for the $m$ movie. We also create a vector $\\mathbf{y}\\in\\Re^{nm\\times 1}$ containing *ALL* the ratings $y_{i,j}$ organised in a similar way to $\\mathbf{f}$. We now create a matrix $\\mathbf{S}$, which is going to be a diagonal matrix. The elements in the main diagonal are $s_{i,j}$ once agained, organised as we organised vectors $\\mathbf{y}$ and $\\mathbf{f}$. The dimensions of $\\mathbf{S}$ are $\\mathbf{S}\\in\\Re^{nm\\times nm}$. \n",
    "\n",
    "With these definitions, the objective function can be written as\n",
    "$$\n",
    "E = \\sum_{i,j} s_{i,j}(y_{i,j} - f_{i, j})^2 = (\\mathbf{y}- \\mathbf{f})^{\\top} \\mathbf{S} (\\mathbf{y}- \\mathbf{f}).\n",
    "$$\n"
   ]
  },
  {
   "cell_type": "markdown",
   "metadata": {},
   "source": [
    "## Objective Optimisation\n",
    "\n",
    "Our *model* has now been defined with two equations, the prediction function and the objective function. Next we will use multivariate calculus to define an *algorithm* to fit the model. The separation between model and algorithm is important and is often overlooked. Our model contains a function that shows how it will be used for prediction, and a function that describes the objective function we need to optimise to obtain a good set of parameters. \n",
    "\n",
    "The linear regression model we have described is still the same as the one we fitted above with a coordinate ascent algorithm. We have only played with the notation to obtain the same model in a matrix and vector notation. However, we will now fit this model with a different algorithm, one that is much faster. It is such a widely used algorithm that from the end user's perspective it doesn't even look like an algorithm, it just appears to be a single operation (or function). However, underneath the computer calls an algorithm to find the solution. Further, the algorithm we obtain is very widely used, and because of this it turns out to be highly optimised.\n",
    "\n",
    "Once again we are going to try and find the stationary points of our objective by finding the *stationary points*. However, the stationary points of a multivariate function, are a little bit more complext to find. Once again we need to find the point at which the derivative is zero, but now we need to use  *multivariate calculus* to find it. This involves learning a few additional rules of differentiation (that allow you to do the derivatives of a function with respect to  vector), but in the end it makes things quite a bit easier. We define vectorial derivatives as follows,\n",
    "$$\n",
    "\\frac{\\text{d}E(\\mathbf{w})}{\\text{d}\\mathbf{w}} = \\begin{bmatrix}\\frac{\\partial E(\\mathbf{w})}{\\partial w_1}\\\\\\frac{\\partial E(\\mathbf{w})}{\\partial w_2}\\end{bmatrix}.\n",
    "$$\n",
    "where $\\frac{\\partial E(\\mathbf{w})}{\\partial w_1}$ is the [partial derivative](http://en.wikipedia.org/wiki/Partial_derivative) of the error function with respect to $w_1$.\n",
    "\n",
    "Differentiation through multiplications and additions is relatively straightforward, and since linear algebra is just multiplication and addition, then its rules of diffentiation are quite straightforward too, but slightly more complex than regular derivatives. \n",
    "\n",
    "### Matrix Differentiation\n",
    "\n",
    "We will need two rules of differentiation. The first is diffentiation of an inner product. By remebering that the inner product is made up of multiplication and addition, we can hope that its derivative is quite straightforward, and so it proves to be. We can start by thinking about the definition of the inner product,\n",
    "$$\n",
    "\\mathbf{a}^\\top\\mathbf{z} = \\sum_{i} a_i z_i,\n",
    "$$\n",
    "which if we were to take the derivative with respect to $z_k$ would simply return the gradient of the one term in the sum for which the derivative was non zero, that of $a_k$, so we know that \n",
    "$$\n",
    "\\frac{\\text{d}}{\\text{d}z_k} \\mathbf{a}^\\top \\mathbf{z} = a_k\n",
    "$$\n",
    "and by our definition of multivariate derivatives we can simply stack all the partial derivatives of this form in a vector to obtain the result that\n",
    "$$\n",
    "\\frac{\\text{d}}{\\text{d}\\mathbf{z}} \\mathbf{a}^\\top \\mathbf{z} = \\mathbf{a}.\n",
    "$$\n",
    "The second rule that's required is differentiation of a 'matrix quadratic'. A scalar quadratic in $z$ with coefficient $c$ has the form $cz^2$. If $\\mathbf{z}$ is a $k\\times 1$ vector and $\\mathbf{C}$ is a $k \\times k$ *matrix* of coefficients then the matrix quadratic form is written as $\\mathbf{z}^\\top \\mathbf{C}\\mathbf{z}$, which is itself a *scalar* quantity, but it is a function of a *vector*. \n",
    "\n",
    "#### Matching Dimensions in Matrix Multiplications\n",
    "\n",
    "There's a trick for telling that it's a scalar result. When you are doing maths with matrices, it's always worth pausing to perform a quick sanity check on the dimensions. Matrix multplication only works when the dimensions match. To be precise, the 'inner' dimension of the matrix must match. What is the inner dimension. If we multiply two matrices $\\mathbf{A}$ and $\\mathbf{B}$, the first of which has $k$ rows and $\\ell$ columns and the second of which has $p$ rows and $q$ columns, then we can check whether the multiplication works by writing the dimensionalities next to each other,\n",
    "$$\n",
    "\\mathbf{A} \\mathbf{B} \\rightarrow (k \\times \\underbrace{\\ell)(p}_\\text{inner dimensions} \\times q) \\rightarrow (k\\times q).\n",
    "$$\n",
    "The inner dimensions are the two inside dimensions, $\\ell$ and $p$. The multiplication will only work if $\\ell=p$. The result of the multiplication will then be a $k\\times q$ matrix: this dimensionality comes from the 'outer dimensions'. Note that matrix multiplication is not [*commutative*](http://en.wikipedia.org/wiki/Commutative_property). And if you change the order of the multiplication, \n",
    "$$\n",
    "\\mathbf{B} \\mathbf{A} \\rightarrow (\\ell \\times \\underbrace{k)(q}_\\text{inner dimensions} \\times p) \\rightarrow (\\ell \\times p).\n",
    "$$\n",
    "firstly it may no longer even work, because now the condition is that $k=q$, and secondly the result could be of a different dimensionality. An exception is if the matrices are square matrices (e.g. same number of rows as columns) and they are both *symmetric*. A symmetric matrix is one for which $\\mathbf{A}=\\mathbf{A}^\\top$, or equivalently, $a_{i,j} = a_{j,i}$ for all $i$ and $j$.  \n",
    "\n",
    "You will need to get used to working with matrices and vectors applying and developing new machine learning techniques. You should have come across them before, but you may not have used them as extensively as we will now do in this course. You should get used to using this trick to check your work and ensure you know what the dimension of an output matrix should be. For our matrix quadratic form, it turns out that we can see it as a special type of inner product.\n",
    "$$\n",
    "\\mathbf{z}^\\top\\mathbf{C}\\mathbf{z} \\rightarrow (1\\times \\underbrace{k) (k}_\\text{inner dimensions}\\times k) (k\\times 1) \\rightarrow \\mathbf{b}^\\top\\mathbf{z}\n",
    "$$\n",
    "where $\\mathbf{b} = \\mathbf{C}\\mathbf{z}$ so therefore the result is a scalar,\n",
    "$$\n",
    "\\mathbf{b}^\\top\\mathbf{z} \\rightarrow (1\\times \\underbrace{k) (k}_\\text{inner dimensions}\\times 1) \\rightarrow (1\\times 1)\n",
    "$$\n",
    "where a $(1\\times 1)$ matrix is recognised as a scalar.\n",
    "\n",
    "This implies that we should be able to differentiate this form, and indeed the rule for its differentiation is slightly more complex than the inner product, but still quite simple,\n",
    "$$\n",
    "\\frac{\\text{d}}{\\text{d}\\mathbf{z}} \\mathbf{z}^\\top\\mathbf{C}\\mathbf{z}= \\mathbf{C}\\mathbf{z} + \\mathbf{C}^\\top \\mathbf{z}.\n",
    "$$\n",
    "Note that in the special case where $\\mathbf{C}$ is symmetric then we have $\\mathbf{C} = \\mathbf{C}^\\top$ and the derivative simplifies to \n",
    "$$\n",
    "\\frac{\\text{d}}{\\text{d}\\mathbf{z}} \\mathbf{z}^\\top\\mathbf{C}\\mathbf{z}= 2\\mathbf{C}\\mathbf{z}.\n",
    "$$\n",
    "### Differentiating the Objective\n",
    "\n",
    "First, we need to compute the full objective by substituting our prediction function into the objective function to obtain the objective in terms of $\\mathbf{w}$. Doing this we obtain\n",
    "$$\n",
    "E(\\mathbf{w})= (\\mathbf{y} - \\mathbf{X}\\mathbf{w})^\\top (\\mathbf{y} - \\mathbf{X}\\mathbf{w}).\n",
    "$$\n",
    "We now need to differentiate this *quadratic form* to find the minimum. We differentiate with respect to the *vector* $\\mathbf{w}$. But before we do that, we'll expand the brackets in the quadratic form to obtain a series of scalar terms. The rules for bracket expansion across the vectors are similar to those for the scalar system giving,\n",
    "$$\n",
    "(\\mathbf{a} - \\mathbf{b})^\\top (\\mathbf{c} - \\mathbf{d}) = \\mathbf{a}^\\top \\mathbf{c} - \\mathbf{a}^\\top \\mathbf{d} - \\mathbf{b}^\\top \\mathbf{c} + \\mathbf{b}^\\top \\mathbf{d}\n",
    "$$\n",
    "which substituting for $\\mathbf{a} = \\mathbf{c} = \\mathbf{y}$ and $\\mathbf{b}=\\mathbf{d} = \\mathbf{X}\\mathbf{w}$ gives\n",
    "$$\n",
    "E(\\mathbf{w})= \\mathbf{y}^\\top\\mathbf{y} - 2\\mathbf{y}^\\top\\mathbf{X}\\mathbf{w} + \\mathbf{w}^\\top\\mathbf{X}^\\top\\mathbf{X}\\mathbf{w}\n",
    "$$\n",
    "where we used the fact that $\\mathbf{y}^\\top\\mathbf{X}\\mathbf{w}= \\mathbf{w}^\\top\\mathbf{X}^\\top\\mathbf{y}$. Now we can use our rules of differentiation to compute the derivative of this form, which is,\n",
    "$$\n",
    "\\frac{\\text{d}}{\\text{d}\\mathbf{w}}E(\\mathbf{w})=- 2\\mathbf{X}^\\top \\mathbf{y} + 2\\mathbf{X}^\\top\\mathbf{X}\\mathbf{w},\n",
    "$$\n",
    "where we have exploited the fact that $\\mathbf{X}^\\top\\mathbf{X}$ is symmetric to obtain this result."
   ]
  },
  {
   "cell_type": "markdown",
   "metadata": {},
   "source": [
    "### Question 5\n",
    "\n",
    "Use the equivalence between our vector and our matrix formulations of linear regression, alongside our definition of vector derivates, to match the gradients we've computed directly for $\\frac{\\text{d}E(c, m)}{\\text{d}c}$ and $\\frac{\\text{d}E(c, m)}{\\text{d}m}$ to those for $\\frac{\\text{d}E(\\mathbf{w})}{\\text{d}\\mathbf{w}}$."
   ]
  },
  {
   "cell_type": "markdown",
   "metadata": {},
   "source": [
    "#### Question 5 Answer\n",
    "\n",
    "Write your answer to the question in this box.\n",
    "\n",
    "----\n",
    "**For the first part of gradient we need to put the new gradients into a vector**\n",
    "\n",
    "$$-2\\mathbf{X}^\\top \\mathbf{y}$$ we can be express:\n",
    "$$\n",
    "\\mathbf{X} = \n",
    "\\begin{bmatrix}\n",
    "\\mathbf{x} & \\mathbf{1}\n",
    "\\end{bmatrix},\n",
    "$$\n",
    "and multiplying by $\\mathbf{y}$ gives us \n",
    "$$\n",
    "\\mathbf{X}^\\top \\mathbf{y} = \n",
    "\\begin{bmatrix}\n",
    "\\mathbf{x} & \\mathbf{1}\n",
    "\\end{bmatrix}^\\top \\mathbf{y}\n",
    "=\n",
    "\\begin{bmatrix}\n",
    "\\mathbf{x}^\\top\\mathbf{y} \\\\ \\mathbf{1}^\\top \\mathbf{y}\n",
    "\\end{bmatrix}.\n",
    "$$\n",
    "\n",
    "\n",
    "\n",
    "**For the second part of gradient**\n",
    "\n",
    "$$2\\mathbf{X}^\\top\\mathbf{X}\\mathbf{w},$$ we can express:\n",
    "$$\n",
    "\\mathbf{X}^\\top\\mathbf{X} =\n",
    "\\begin{bmatrix}\n",
    "\\mathbf{x}^\\top\\mathbf{x} & \\mathbf{x}^\\top\\mathbf{1}\\\\\n",
    "\\mathbf{x}^\\top\\mathbf{1} & n\n",
    "\\end{bmatrix},\n",
    "$$\n",
    "and\n",
    "$$\n",
    "\\mathbf{w} = \\begin{bmatrix}m\\\\c\\end{bmatrix},\n",
    "$$\n",
    "so we have\n",
    "$$\n",
    "\\mathbf{X}^\\top\\mathbf{X}\\mathbf{w} =\n",
    "\\begin{bmatrix}\n",
    "\\mathbf{x}^\\top\\mathbf{x}  & \\mathbf{x}^\\top\\mathbf{1}\\\\\n",
    "\\mathbf{x}^\\top\\mathbf{1} & n\n",
    "\\end{bmatrix}\n",
    "\\begin{bmatrix}m\\\\c\\end{bmatrix}\n",
    "=\n",
    "\\begin{bmatrix}\n",
    "\\mathbf{x}^\\top\\mathbf{x}m + \\mathbf{x}^\\top\\mathbf{1}c \\\\\n",
    "\\mathbf{x}^\\top\\mathbf{1}m + nc\n",
    "\\end{bmatrix}.\n",
    "$$\n",
    "\n",
    "\n",
    "\n",
    "**So the full gradient**\n",
    "\n",
    "$$\n",
    "\\frac{\\text{d}E(\\mathbf{w})}{\\text{d}\\mathbf{w}}=\\begin{bmatrix}\\frac{\\text{d}E(m,c)}{\\text{d}m} \\\\ \\frac{\\text{d}E(m,c)}{\\text{d}c}\\end{bmatrix}=-2\\begin{bmatrix}\n",
    "\\mathbf{x}^\\top\\mathbf{y} \\\\ \\mathbf{1}^\\top \\mathbf{y}\n",
    "\\end{bmatrix}+2\\begin{bmatrix}\n",
    "\\mathbf{x}^\\top\\mathbf{x}m + \\mathbf{x}^\\top\\mathbf{1}c \\\\\n",
    "\\mathbf{x}^\\top\\mathbf{1}m + nc\n",
    "\\end{bmatrix}=  \n",
    "\\begin{bmatrix}-2\\sum_{i=1}^n x_i (y_i-mx_i - c)\\\\\n",
    "-2\\sum_{i=1}^n(y_i - mx_i -c)\n",
    "\\end{bmatrix}.\n",
    "$$\n"
   ]
  },
  {
   "cell_type": "markdown",
   "metadata": {},
   "source": [
    "## Update Equation for Global Optimum\n",
    "\n",
    "Once again, we need to find the minimum of our objective function. Using our likelihood for multiple input regression we can now minimize for our parameter vector $\\mathbf{w}$. Firstly, just as in the single input case, we seek stationary points by finding parameter vectors that solve for when the gradients are zero,\n",
    "$$\n",
    "\\mathbf{0}=- 2\\mathbf{X}^\\top \\mathbf{y} + 2\\mathbf{X}^\\top\\mathbf{X}\\mathbf{w},\n",
    "$$\n",
    "where $\\mathbf{0}$ is a *vector* of zeros. Rearranging this equation we find the solution to be\n",
    "$$\n",
    "\\mathbf{w} = \\left[\\mathbf{X}^\\top \\mathbf{X}\\right]^{-1} \\mathbf{X}^\\top \\mathbf{y}\n",
    "$$ \n",
    "where $\\mathbf{A}^{-1}$ denotes [*matrix inverse*](http://en.wikipedia.org/wiki/Invertible_matrix).\n",
    "\n",
    "### Solving the Multivariate System\n",
    "\n",
    "The solution for $\\mathbf{w}$ is given in terms of a matrix inverse, but computation of a matrix inverse requires, in itself, an algorithm to resolve it. You'll know this if you had to invert, by hand, a $3\\times 3$ matrix in high school. From a numerical stability perspective, it is also best not to compute the matrix inverse directly, but rather to ask the computer to *solve* the  system of linear equations given by\n",
    "$$\\mathbf{X}^\\top\\mathbf{X} \\mathbf{w} = \\mathbf{X}^\\top\\mathbf{y}$$\n",
    "for $\\mathbf{w}$. This can be done in `numpy` using the command\n",
    "\n",
    "*multivariate: 多変量の"
   ]
  },
  {
   "cell_type": "code",
   "execution_count": 20,
   "metadata": {},
   "outputs": [],
   "source": [
    "np.linalg.solve?"
   ]
  },
  {
   "cell_type": "markdown",
   "metadata": {},
   "source": [
    "so we can obtain the solution using"
   ]
  },
  {
   "cell_type": "code",
   "execution_count": 21,
   "metadata": {},
   "outputs": [
    {
     "name": "stdout",
     "output_type": "stream",
     "text": [
      "[[ 2.88952457e+01]\n",
      " [-1.29806477e-02]]\n"
     ]
    }
   ],
   "source": [
    "w = np.linalg.solve(np.dot(X.T, X), np.dot(X.T, y))\n",
    "print(w)"
   ]
  },
  {
   "cell_type": "markdown",
   "metadata": {},
   "source": [
    "We can map it back to the liner regression and plot the fit as follows"
   ]
  },
  {
   "cell_type": "code",
   "execution_count": 22,
   "metadata": {},
   "outputs": [
    {
     "name": "stdout",
     "output_type": "stream",
     "text": [
      "[-0.01298065]\n",
      "[28.89524574]\n"
     ]
    },
    {
     "data": {
      "text/plain": [
       "[<matplotlib.lines.Line2D at 0x112e44ac8>]"
      ]
     },
     "execution_count": 22,
     "metadata": {},
     "output_type": "execute_result"
    },
    {
     "data": {
      "image/png": "[encoded data removed]",
      "text/plain": [
       "<matplotlib.figure.Figure at 0x105acf0b8>"
      ]
     },
     "metadata": {},
     "output_type": "display_data"
    }
   ],
   "source": [
    "m = w[1]; c=w[0]\n",
    "f_test = m*x_test + c\n",
    "print(m)\n",
    "print(c)\n",
    "plt.plot(x_test, f_test, 'b-')\n",
    "plt.plot(x, y, 'rx')"
   ]
  },
  {
   "cell_type": "markdown",
   "metadata": {},
   "source": [
    "## Multivariate Linear Regression\n",
    "\n",
    "A major advantage of the new system is that we can build a linear regression on a multivariate system. The matrix calculus didn't specify what the length of the vector $\\mathbf{x}$ should be, or equivalently the size of the design matrix. \n",
    "\n",
    "### Movie Body Count Data\n",
    "\n",
    "Let's load back in the movie body count data."
   ]
  },
  {
   "cell_type": "code",
   "execution_count": 23,
   "metadata": {},
   "outputs": [],
   "source": [
    "data = pods.datasets.movie_body_count()\n",
    "movies = data['Y']"
   ]
  },
  {
   "cell_type": "markdown",
   "metadata": {},
   "source": [
    "Let's remind ourselves of the features we've been provided with."
   ]
  },
  {
   "cell_type": "code",
   "execution_count": 24,
   "metadata": {},
   "outputs": [
    {
     "name": "stdout",
     "output_type": "stream",
     "text": [
      "Film, Year, Body_Count, MPAA_Rating, Genre, Director, Actors, Length_Minutes, IMDB_Rating\n"
     ]
    }
   ],
   "source": [
    "print(', '.join(movies.columns))"
   ]
  },
  {
   "cell_type": "markdown",
   "metadata": {},
   "source": [
    "Now we will build a design matrix based on the numeric features: year, Body_Count, Length_Minutes in an effort to predict the rating. We build the design matrix as follows:\n",
    "\n",
    "## Relation to Single Input System\n",
    "\n",
    "Bias as an additional feature."
   ]
  },
  {
   "cell_type": "code",
   "execution_count": 25,
   "metadata": {},
   "outputs": [],
   "source": [
    "select_features = ['Year', 'Body_Count', 'Length_Minutes']\n",
    "X = movies.loc[:, select_features]\n",
    "X['Eins'] = 1 # add a column for the offset\n",
    "y = movies[['IMDB_Rating']]"
   ]
  },
  {
   "cell_type": "markdown",
   "metadata": {},
   "source": [
    "Now let's perform a linear regression. But this time, we will create a pandas data frame for the result so we can store it in a form that we can visualise easily."
   ]
  },
  {
   "cell_type": "code",
   "execution_count": 26,
   "metadata": {},
   "outputs": [
    {
     "data": {
      "text/html": [
       "<div>\n",
       "<style scoped>\n",
       "    .dataframe tbody tr th:only-of-type {\n",
       "        vertical-align: middle;\n",
       "    }\n",
       "\n",
       "    .dataframe tbody tr th {\n",
       "        vertical-align: top;\n",
       "    }\n",
       "\n",
       "    .dataframe thead th {\n",
       "        text-align: right;\n",
       "    }\n",
       "</style>\n",
       "<table border=\"1\" class=\"dataframe\">\n",
       "  <thead>\n",
       "    <tr style=\"text-align: right;\">\n",
       "      <th></th>\n",
       "      <th>regression_coefficient</th>\n",
       "    </tr>\n",
       "  </thead>\n",
       "  <tbody>\n",
       "    <tr>\n",
       "      <th>Year</th>\n",
       "      <td>-0.016280</td>\n",
       "    </tr>\n",
       "    <tr>\n",
       "      <th>Body_Count</th>\n",
       "      <td>-0.000995</td>\n",
       "    </tr>\n",
       "    <tr>\n",
       "      <th>Length_Minutes</th>\n",
       "      <td>0.025386</td>\n",
       "    </tr>\n",
       "    <tr>\n",
       "      <th>Eins</th>\n",
       "      <td>36.508363</td>\n",
       "    </tr>\n",
       "  </tbody>\n",
       "</table>\n",
       "</div>"
      ],
      "text/plain": [
       "                regression_coefficient\n",
       "Year                         -0.016280\n",
       "Body_Count                   -0.000995\n",
       "Length_Minutes                0.025386\n",
       "Eins                         36.508363"
      ]
     },
     "execution_count": 26,
     "metadata": {},
     "output_type": "execute_result"
    }
   ],
   "source": [
    "import pandas as pd\n",
    "w = pd.DataFrame(data=np.linalg.solve(np.dot(X.T, X), np.dot(X.T, y)),  # solve linear regression here\n",
    "                 index = X.columns,  # columns of X become rows of w\n",
    "                 columns=['regression_coefficient']) # the column of X is the value of regression coefficient\n",
    "w"
   ]
  },
  {
   "cell_type": "markdown",
   "metadata": {},
   "source": [
    "We can check the residuals to see how good our estimates are"
   ]
  },
  {
   "cell_type": "code",
   "execution_count": 27,
   "metadata": {},
   "outputs": [
    {
     "data": {
      "text/plain": [
       "array([[<matplotlib.axes._subplots.AxesSubplot object at 0x112f45be0>]],\n",
       "      dtype=object)"
      ]
     },
     "execution_count": 27,
     "metadata": {},
     "output_type": "execute_result"
    },
    {
     "data": {
      "image/png": "[encoded data removed]",
      "text/plain": [
       "<matplotlib.figure.Figure at 0x112f51128>"
      ]
     },
     "metadata": {},
     "output_type": "display_data"
    }
   ],
   "source": [
    "(y - np.dot(X, w)).hist()"
   ]
  },
  {
   "cell_type": "markdown",
   "metadata": {},
   "source": [
    "Which shows our model *hasn't* yet done a great job of representation, because the spread of values is large. We can check what the rating is dominated by in terms of regression coefficients."
   ]
  },
  {
   "cell_type": "code",
   "execution_count": 28,
   "metadata": {},
   "outputs": [
    {
     "data": {
      "text/html": [
       "<div>\n",
       "<style scoped>\n",
       "    .dataframe tbody tr th:only-of-type {\n",
       "        vertical-align: middle;\n",
       "    }\n",
       "\n",
       "    .dataframe tbody tr th {\n",
       "        vertical-align: top;\n",
       "    }\n",
       "\n",
       "    .dataframe thead th {\n",
       "        text-align: right;\n",
       "    }\n",
       "</style>\n",
       "<table border=\"1\" class=\"dataframe\">\n",
       "  <thead>\n",
       "    <tr style=\"text-align: right;\">\n",
       "      <th></th>\n",
       "      <th>regression_coefficient</th>\n",
       "    </tr>\n",
       "  </thead>\n",
       "  <tbody>\n",
       "    <tr>\n",
       "      <th>Year</th>\n",
       "      <td>-0.016280</td>\n",
       "    </tr>\n",
       "    <tr>\n",
       "      <th>Body_Count</th>\n",
       "      <td>-0.000995</td>\n",
       "    </tr>\n",
       "    <tr>\n",
       "      <th>Length_Minutes</th>\n",
       "      <td>0.025386</td>\n",
       "    </tr>\n",
       "    <tr>\n",
       "      <th>Eins</th>\n",
       "      <td>36.508363</td>\n",
       "    </tr>\n",
       "  </tbody>\n",
       "</table>\n",
       "</div>"
      ],
      "text/plain": [
       "                regression_coefficient\n",
       "Year                         -0.016280\n",
       "Body_Count                   -0.000995\n",
       "Length_Minutes                0.025386\n",
       "Eins                         36.508363"
      ]
     },
     "execution_count": 28,
     "metadata": {},
     "output_type": "execute_result"
    }
   ],
   "source": [
    "w"
   ]
  },
  {
   "cell_type": "markdown",
   "metadata": {},
   "source": [
    "Although we have to be a little careful about interpretation because our input values live on different scales, however it looks like we are dominated by the bias, with a small negative effect for later films (but bear in mind the years are large, so this effect is probably larger than it looks) and a positive effect for length. So it looks like long earlier films generally do better, but the residuals are so high that we probably haven't modelled the system very well."
   ]
  },
  {
   "cell_type": "code",
   "execution_count": 29,
   "metadata": {},
   "outputs": [
    {
     "data": {
      "image/jpeg": "[encoded data removed]",
      "text/html": [
       "\n",
       "        <iframe\n",
       "            width=\"400\"\n",
       "            height=\"300\"\n",
       "            src=\"https://www.youtube.com/embed/ui-uNlFHoms\"\n",
       "            frameborder=\"0\"\n",
       "            allowfullscreen\n",
       "        ></iframe>\n",
       "        "
      ],
      "text/plain": [
       "<IPython.lib.display.YouTubeVideo at 0x113d25898>"
      ]
     },
     "execution_count": 29,
     "metadata": {},
     "output_type": "execute_result"
    }
   ],
   "source": [
    "from IPython.display import YouTubeVideo\n",
    "YouTubeVideo('ui-uNlFHoms')"
   ]
  },
  {
   "cell_type": "code",
   "execution_count": 30,
   "metadata": {},
   "outputs": [
    {
     "data": {
      "image/jpeg": "[encoded data removed]",
      "text/html": [
       "\n",
       "        <iframe\n",
       "            width=\"400\"\n",
       "            height=\"300\"\n",
       "            src=\"https://www.youtube.com/embed/78YNphT90-k\"\n",
       "            frameborder=\"0\"\n",
       "            allowfullscreen\n",
       "        ></iframe>\n",
       "        "
      ],
      "text/plain": [
       "<IPython.lib.display.YouTubeVideo at 0x113d3e3c8>"
      ]
     },
     "execution_count": 30,
     "metadata": {},
     "output_type": "execute_result"
    }
   ],
   "source": [
    "from IPython.display import YouTubeVideo\n",
    "YouTubeVideo('78YNphT90-k')"
   ]
  },
  {
   "cell_type": "markdown",
   "metadata": {},
   "source": [
    "## Solution with QR Decomposition\n",
    "\n",
    "Performing a solve instead of a matrix inverse is the more numerically stable approach, but we can do even better. A [QR-decomposition](http://en.wikipedia.org/wiki/QR_decomposition) of a matrix factorises it into a matrix which is an orthogonal matrix $\\mathbf{Q}$ (直行行列）, so that $\\mathbf{Q}^\\top \\mathbf{Q} = \\mathbf{I}$. And a matrix which is upper triangular, $\\mathbf{R}$ (上三角行列）. \n",
    "$$\n",
    "\\mathbf{X}^\\top \\mathbf{X} \\boldsymbol{\\beta} = \\mathbf{X}^\\top \\mathbf{y}\n",
    "$$\n",
    "$$\n",
    "(\\mathbf{Q}\\mathbf{R})^\\top (\\mathbf{Q}\\mathbf{R})\\boldsymbol{\\beta} = (\\mathbf{Q}\\mathbf{R})^\\top \\mathbf{y}\n",
    "$$\n",
    "$$\n",
    "\\mathbf{R}^\\top (\\mathbf{Q}^\\top \\mathbf{Q}) \\mathbf{R} \\boldsymbol{\\beta} = \\mathbf{R}^\\top \\mathbf{Q}^\\top \\mathbf{y}\n",
    "$$\n",
    "$$\n",
    "\\mathbf{R}^\\top \\mathbf{R} \\boldsymbol{\\beta} = \\mathbf{R}^\\top \\mathbf{Q}^\\top \\mathbf{y}\n",
    "$$\n",
    "$$\n",
    "\\mathbf{R} \\boldsymbol{\\beta} = \\mathbf{Q}^\\top \\mathbf{y}\n",
    "$$\n",
    "This is a more numerically stable solution because it removes the need to compute $\\mathbf{X}^\\top\\mathbf{X}$ as an intermediate. Computing $\\mathbf{X}^\\top\\mathbf{X}$ is a bad idea because it involves squaring all the elements of $\\mathbf{X}$ and thereby potentially reducing the numerical precision with which we can represent the solution. Operating on $\\mathbf{X}$ directly preserves the numerical precision of the model.\n",
    "\n",
    "This can be more particularly seen when we begin to work with *basis functions* in the next week. Some systems that can be resolved with the QR decomposition can not be resolved by using solve directly."
   ]
  },
  {
   "cell_type": "code",
   "execution_count": 31,
   "metadata": {},
   "outputs": [
    {
     "data": {
      "text/html": [
       "<div>\n",
       "<style scoped>\n",
       "    .dataframe tbody tr th:only-of-type {\n",
       "        vertical-align: middle;\n",
       "    }\n",
       "\n",
       "    .dataframe tbody tr th {\n",
       "        vertical-align: top;\n",
       "    }\n",
       "\n",
       "    .dataframe thead th {\n",
       "        text-align: right;\n",
       "    }\n",
       "</style>\n",
       "<table border=\"1\" class=\"dataframe\">\n",
       "  <thead>\n",
       "    <tr style=\"text-align: right;\">\n",
       "      <th></th>\n",
       "      <th>0</th>\n",
       "    </tr>\n",
       "  </thead>\n",
       "  <tbody>\n",
       "    <tr>\n",
       "      <th>Year</th>\n",
       "      <td>-0.016280</td>\n",
       "    </tr>\n",
       "    <tr>\n",
       "      <th>Body_Count</th>\n",
       "      <td>-0.000995</td>\n",
       "    </tr>\n",
       "    <tr>\n",
       "      <th>Length_Minutes</th>\n",
       "      <td>0.025386</td>\n",
       "    </tr>\n",
       "    <tr>\n",
       "      <th>Eins</th>\n",
       "      <td>36.508363</td>\n",
       "    </tr>\n",
       "  </tbody>\n",
       "</table>\n",
       "</div>"
      ],
      "text/plain": [
       "                        0\n",
       "Year            -0.016280\n",
       "Body_Count      -0.000995\n",
       "Length_Minutes   0.025386\n",
       "Eins            36.508363"
      ]
     },
     "execution_count": 31,
     "metadata": {},
     "output_type": "execute_result"
    }
   ],
   "source": [
    "import scipy as sp\n",
    "Q, R = np.linalg.qr(X) \n",
    "w = sp.linalg.solve_triangular(R, np.dot(Q.T, y)) \n",
    "w = pd.DataFrame(w, index=X.columns)"
   ]
  },
  {
   "cell_type": "code",
   "execution_count": null,
   "metadata": {},
   "outputs": [],
   "source": []
  }
 ],
 "metadata": {
  "kernelspec": {
   "display_name": "Python 3",
   "language": "python",
   "name": "python3"
  },
  "language_info": {
   "codemirror_mode": {
    "name": "ipython",
    "version": 3
   },
   "file_extension": ".py",
   "mimetype": "text/x-python",
   "name": "python",
   "nbconvert_exporter": "python",
   "pygments_lexer": "ipython3",
   "version": "3.6.2"
  }
 },
 "nbformat": 4,
 "nbformat_minor": 1
}
